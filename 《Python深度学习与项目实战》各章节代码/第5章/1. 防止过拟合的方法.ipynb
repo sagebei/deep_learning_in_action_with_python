{
 "cells": [
  {
   "cell_type": "markdown",
   "id": "61452275",
   "metadata": {},
   "source": [
    "### 1. L1正则化"
   ]
  },
  {
   "cell_type": "code",
   "execution_count": null,
   "id": "7006b7c3",
   "metadata": {},
   "outputs": [],
   "source": [
    "from keras.models import Sequential\n",
    "from keras.layers import Dense\n",
    "from keras.regularizers import l1\n",
    "model = Sequential()\n",
    "model.add(Dense(units=4, \n",
    "                activation='relu', \n",
    "                input_shape=(4,),\n",
    "                kernel_regularizer=l1(0.01)))\n",
    "model.add(Dense(units=1, \n",
    "                activation=None, \n",
    "                kernel_regularizer=l1(0.01)))"
   ]
  },
  {
   "cell_type": "markdown",
   "id": "7b2e3497",
   "metadata": {},
   "source": [
    "### 2. L2正则化"
   ]
  },
  {
   "cell_type": "code",
   "execution_count": null,
   "id": "96cef87d",
   "metadata": {},
   "outputs": [],
   "source": [
    "from keras.models import Sequential\n",
    "from keras.layers import Dense\n",
    "from keras.regularizers import l2\n",
    "model = Sequential()\n",
    "model.add(Dense(units=4, \n",
    "                activation='relu', \n",
    "                input_shape=(4,),\n",
    "                kernel_regularizer=l2(0.01)))\n",
    "model.add(Dense(units=1, \n",
    "                activation=None, \n",
    "                kernel_regularizer=l2(0.01)))"
   ]
  },
  {
   "cell_type": "markdown",
   "id": "6d7d9ae7",
   "metadata": {},
   "source": [
    "### 3.增加训练集样本个数"
   ]
  },
  {
   "cell_type": "code",
   "execution_count": null,
   "id": "3170b4e8",
   "metadata": {},
   "outputs": [],
   "source": [
    "from keras.preprocessing.image import ImageDataGenerator\n",
    "import numpy as np\n",
    "import matplotlib.pyplot as plt"
   ]
  },
  {
   "cell_type": "code",
   "execution_count": null,
   "id": "ff727383",
   "metadata": {},
   "outputs": [],
   "source": [
    "image_path = \"cat.jpg\"\n",
    "# 加载图片\n",
    "image = plt.imread(image_path)\n",
    "# 打印图片\n",
    "plt.imshow(image)\n",
    "# 查看这张图片中每一个维度中元素个数\n",
    "print(image.shape)"
   ]
  },
  {
   "cell_type": "code",
   "execution_count": null,
   "id": "12f85f0e",
   "metadata": {},
   "outputs": [],
   "source": [
    "generator = ImageDataGenerator(rotation_range=10, # 旋转\n",
    "                               width_shift_range=0.1, # 宽度\n",
    "                               height_shift_range=0.1, # 高度\n",
    "                               shear_range=0.15, # 图片剪切\n",
    "                               zoom_range=0.1, # 缩放\n",
    "                               channel_shift_range=10, # 三通道转换\n",
    "                               brightness_range=(0.9, 0.7), # 亮度\n",
    "                               horizontal_flip=True) # 水平移动"
   ]
  },
  {
   "cell_type": "code",
   "execution_count": null,
   "id": "618d006d",
   "metadata": {},
   "outputs": [],
   "source": [
    "image = np.expand_dims(image, 0)\n",
    "print(image.shape)"
   ]
  },
  {
   "cell_type": "code",
   "execution_count": null,
   "id": "e72a57b9",
   "metadata": {},
   "outputs": [],
   "source": [
    "aug_iter = generator.flow(image)\n",
    "aug_images = [next(aug_iter)[0] for i in range(10)]"
   ]
  },
  {
   "cell_type": "code",
   "execution_count": null,
   "id": "8ed6a1e0",
   "metadata": {},
   "outputs": [],
   "source": [
    "def plots(ims, figsize=(12,6), rows=1):\n",
    "    ims = np.array(ims).astype(np.uint8)\n",
    "    fig = plt.figure(figsize=figsize)\n",
    "    cols = len(ims) // rows if len(ims) % 2 == 0 else len(ims) // rows + 1\n",
    "    for i in range(len(ims)):\n",
    "        sp = fig.add_subplot(rows, cols, i + 1)\n",
    "        sp.axis('Off')\n",
    "        plt.imshow(ims[i])"
   ]
  },
  {
   "cell_type": "code",
   "execution_count": null,
   "id": "8c91a815",
   "metadata": {},
   "outputs": [],
   "source": [
    "plots(aug_images, figsize=(20,7), rows=2)"
   ]
  },
  {
   "cell_type": "markdown",
   "id": "52e3880c",
   "metadata": {},
   "source": [
    "### 4. Dropout的应用"
   ]
  },
  {
   "cell_type": "code",
   "execution_count": null,
   "id": "bdeadfd9",
   "metadata": {},
   "outputs": [],
   "source": [
    "from keras.models import Sequential\n",
    "from keras.layers import Dense, Dropout"
   ]
  },
  {
   "cell_type": "code",
   "execution_count": null,
   "id": "9777cf1d",
   "metadata": {},
   "outputs": [],
   "source": [
    "model = Sequential()\n",
    "# 第一个中间层应用Dropout\n",
    "model.add(Dense(units=4, activation='relu', input_shape=(4,)))\n",
    "model.add(Dropout(rate=0.5))\n",
    "# 第二个中间层应用Dropout\n",
    "model.add(Dense(units=4, activation='relu'))\n",
    "model.add(Dropout(rate=0.5))\n",
    "# 输出层\n",
    "model.add(Dense(units=1, activation='relu'))\n",
    "model.summary()"
   ]
  },
  {
   "cell_type": "markdown",
   "id": "7b5c492c",
   "metadata": {},
   "source": [
    "### 5. 早停法"
   ]
  },
  {
   "cell_type": "code",
   "execution_count": null,
   "id": "af337f77",
   "metadata": {},
   "outputs": [],
   "source": [
    "from sklearn.datasets import load_iris\n",
    "from sklearn.model_selection import train_test_split\n",
    "from keras.utils import to_categorical\n",
    "# 加载鸢尾花数据集\n",
    "iris = load_iris()\n",
    "# 数据集中样本的特征值\n",
    "X = iris.data\n",
    "# 数据集中样本的标签值\n",
    "y = iris.target\n",
    "# 将数据集中的四分之三划分为训练集，四分之一划分为测试集\n",
    "X_train, X_test, y_train, y_test = train_test_split(\n",
    "    X, y, test_size=0.25, random_state=42\n",
    ")\n",
    "# 分别将训练集与测试集样本标签进行独热编码处理\n",
    "y_train = to_categorical(y_train)\n",
    "y_test = to_categorical(y_test)"
   ]
  },
  {
   "cell_type": "code",
   "execution_count": null,
   "id": "23b8b76e",
   "metadata": {},
   "outputs": [],
   "source": [
    "from keras.models import Sequential\n",
    "from keras.layers import Dense\n",
    "model = Sequential()\n",
    "model.add(Dense(50, input_shape=(4,), activation='relu'))\n",
    "model.add(Dense(25, activation='relu'))\n",
    "model.add(Dense(3, activation='softmax'))\n",
    "model.compile(loss='categorical_crossentropy',\n",
    "             optimizer='adam',\n",
    "             metrics=['accuracy'])\n",
    "model.summary()"
   ]
  },
  {
   "cell_type": "code",
   "execution_count": null,
   "id": "50376180",
   "metadata": {},
   "outputs": [],
   "source": [
    "from keras.callbacks import EarlyStopping\n",
    "monitor = EarlyStopping(monitor='val_loss',\n",
    "                        min_delta=1e-3,\n",
    "                        patience=5,\n",
    "                        mode='auto',\n",
    "                        verbose=1,\n",
    "                        restore_best_weights=True)"
   ]
  },
  {
   "cell_type": "code",
   "execution_count": null,
   "id": "b52a46b6",
   "metadata": {},
   "outputs": [],
   "source": [
    "model.fit(X_train, \n",
    "          y_train, \n",
    "          validation_data=(X_test, y_test),\n",
    "          callbacks=[monitor],\n",
    "          verbose=2,\n",
    "          epochs=1000)"
   ]
  },
  {
   "cell_type": "code",
   "execution_count": null,
   "id": "f9a7b0c7",
   "metadata": {},
   "outputs": [],
   "source": []
  },
  {
   "cell_type": "code",
   "execution_count": null,
   "id": "efe309c7",
   "metadata": {},
   "outputs": [],
   "source": []
  },
  {
   "cell_type": "code",
   "execution_count": null,
   "id": "43e1f578",
   "metadata": {},
   "outputs": [],
   "source": []
  },
  {
   "cell_type": "code",
   "execution_count": null,
   "id": "6e4a937e",
   "metadata": {},
   "outputs": [],
   "source": []
  }
 ],
 "metadata": {
  "kernelspec": {
   "display_name": "Python 3",
   "language": "python",
   "name": "python3"
  },
  "language_info": {
   "codemirror_mode": {
    "name": "ipython",
    "version": 3
   },
   "file_extension": ".py",
   "mimetype": "text/x-python",
   "name": "python",
   "nbconvert_exporter": "python",
   "pygments_lexer": "ipython3",
   "version": "3.8.8"
  }
 },
 "nbformat": 4,
 "nbformat_minor": 5
}
