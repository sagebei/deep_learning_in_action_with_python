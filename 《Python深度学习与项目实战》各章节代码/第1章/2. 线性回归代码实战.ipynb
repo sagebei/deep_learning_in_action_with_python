{
 "cells": [
  {
   "cell_type": "markdown",
   "id": "8a5e21ee",
   "metadata": {},
   "source": [
    "### 1. 线性回归模型的构建与训练"
   ]
  },
  {
   "cell_type": "code",
   "execution_count": null,
   "id": "395cf165",
   "metadata": {},
   "outputs": [],
   "source": [
    "import pandas as pd\n",
    "import numpy as np\n",
    "# 加载数据集\n",
    "dataset = pd.read_csv('dataset.csv')\n",
    "# 取出每个样本的特征\n",
    "X = np.array(dataset['X'])\n",
    "# 取出每个样本的标签\n",
    "y = np.array(dataset['y'])"
   ]
  },
  {
   "cell_type": "code",
   "execution_count": null,
   "id": "e64438cc",
   "metadata": {},
   "outputs": [],
   "source": [
    "# 训练集数据\n",
    "X_train = X[0: 30]\n",
    "y_train = y[0: 30]\n",
    "n_train = len(X_train)\n",
    "# 测试集数据\n",
    "X_test = X[30:]\n",
    "y_test = y[30:]\n",
    "n_test = len(X_test)"
   ]
  },
  {
   "cell_type": "code",
   "execution_count": null,
   "id": "2b96ee68",
   "metadata": {},
   "outputs": [],
   "source": [
    "# 把模型的参数w与b分别随机初始化为-0.3与0.6。\n",
    "w = -0.3\n",
    "b = 0.6\n",
    "# 指定学习率的值\n",
    "lr = 0.001\n",
    "# 指定模型使用梯度下降算法迭代更新参数的次数\n",
    "epochs = 5000\n",
    "# 构建线性回归模型\n",
    "def model(x):\n",
    "    y_hat = w * x + b\n",
    "    return y_hat"
   ]
  },
  {
   "cell_type": "code",
   "execution_count": null,
   "id": "79beb9fc",
   "metadata": {},
   "outputs": [],
   "source": [
    "for epoch in range(epochs):\n",
    "    # sum_w与sum_b用于存储计算梯度时相加的值\n",
    "    sum_w = 0.0\n",
    "    sum_b = 0.0\n",
    "    # 求取参数w与b的梯度值\n",
    "    for i in range(n_train):\n",
    "        xi = X_train[i]\n",
    "        yi = y_train[i]\n",
    "        yi_hat = model(xi)\n",
    "        sum_w += (yi_hat - yi) * xi\n",
    "        sum_b += (yi_hat - yi)\n",
    "    # grad_w与grad_b分别为参数w, b的梯度值\n",
    "    grad_w = (2.0 / n_train) * sum_w\n",
    "    grad_b = (2.0 / n_train) * sum_b\n",
    "    # 使用梯度下降算法更新模型参数\n",
    "    w = w - lr * grad_w\n",
    "    b = b - lr * grad_b"
   ]
  },
  {
   "cell_type": "code",
   "execution_count": null,
   "id": "1f88f1d6",
   "metadata": {},
   "outputs": [],
   "source": [
    "import matplotlib.pyplot as plt\n",
    "plt.rcParams['font.sans-serif']=['SimHei']\n",
    "%matplotlib inline\n",
    "def plots(w, b, X, y):\n",
    "    fig, ax = plt.subplots()\n",
    "    # 画出数据集中的样本\n",
    "    ax.scatter(X, y)\n",
    "    # 画出线性回归模型的图像\n",
    "    ax.plot([i for i in range(0, 20)], \n",
    "            [model(i) for i in range(0, 20)])\n",
    "    plt.legend(('模型', '数据'), \n",
    "               loc='upper left', \n",
    "               prop={'size': 15})\n",
    "    plt.title(\"线性回归模型\", fontsize=15)\n",
    "    plt.show()\n",
    "plots(w, b, X, y)"
   ]
  },
  {
   "cell_type": "code",
   "execution_count": null,
   "id": "d124b632",
   "metadata": {},
   "outputs": [],
   "source": [
    "def loss_funtion(X, y):\n",
    "    total_loss = 0\n",
    "    # 数据集中样本的个数\n",
    "    n_samples = len(X)\n",
    "    # 依次取出每一个数据中的每一个样本\n",
    "    for i in range(n_samples):\n",
    "        xi = X[i]\n",
    "        yi = y[i]\n",
    "        # 使用模型根据样本特征值进行预测\n",
    "        yi_hat = model(xi)\n",
    "        # 计算模型预测值与标签值之间的差距值\n",
    "        total_loss += (yi_hat - yi) ** 2 \n",
    "        # 计算出对于给定数据集，模型预测的平均误差\n",
    "    avg_loss = (1 / n_samples) * total_loss\n",
    "    return avg_loss"
   ]
  },
  {
   "cell_type": "code",
   "execution_count": null,
   "id": "37e5be94",
   "metadata": {},
   "outputs": [],
   "source": [
    "train_loss = loss_funtion(X_train, y_train)\n",
    "test_loss = loss_funtion(X_test, y_test)"
   ]
  },
  {
   "cell_type": "markdown",
   "id": "0c96c370",
   "metadata": {},
   "source": [
    "### 2. 复杂线性回归模型的构建"
   ]
  },
  {
   "cell_type": "code",
   "execution_count": null,
   "id": "ff87c1ee",
   "metadata": {},
   "outputs": [],
   "source": [
    "import numpy as np\n",
    "# 把模型的参数w与b进行随机初始化\n",
    "w = np.random.rand(2)\n",
    "b = 1.1\n",
    "# 指定学习率的值\n",
    "lr = 1e-6\n",
    "# 指定模型使用梯度下降算法迭代更新参数的次数\n",
    "epochs = 50000\n",
    "# 构建复杂线性回归模型\n",
    "def model(x):\n",
    "    y_hat = w[0]*x + w[1]*(x**2) + b\n",
    "    return y_hat\n",
    "# 使用梯度下降算法更新模型参数\n",
    "for epoch in range(epochs):\n",
    "    sum_w = np.zeros(2)\n",
    "    sum_b = 0.0\n",
    "    for i in range(n_train):\n",
    "        xi = X_train[i]\n",
    "        yi = y_train[i]\n",
    "        yi_hat = model(xi)\n",
    "        sum_w[0] += (yi_hat - yi) * xi\n",
    "        sum_w[1] += (yi_hat - yi) * (xi**2)\n",
    "        sum_b += (yi_hat - yi)\n",
    "    grad_w = (2.0 / n_train) * sum_w\n",
    "    grad_b = (2.0 / n_train) * sum_b\n",
    "    w = w - lr * grad_w\n",
    "    b = b - lr * grad_b"
   ]
  },
  {
   "cell_type": "code",
   "execution_count": null,
   "id": "c0923e55",
   "metadata": {},
   "outputs": [],
   "source": [
    "plots(w, b, X, y)"
   ]
  },
  {
   "cell_type": "code",
   "execution_count": null,
   "id": "e4d853a2",
   "metadata": {},
   "outputs": [],
   "source": [
    "train_loss = loss_funtion(X_train, y_train)\n",
    "test_loss = loss_funtion(X_test, y_test)"
   ]
  },
  {
   "cell_type": "markdown",
   "id": "a934536a",
   "metadata": {},
   "source": [
    "### 3.\t使用正则项防止过拟合"
   ]
  },
  {
   "cell_type": "code",
   "execution_count": null,
   "id": "d0e902bc",
   "metadata": {},
   "outputs": [],
   "source": [
    "import numpy as np\n",
    "w = np.random.rand(2)\n",
    "b = 1.1\n",
    "lr = 1e-6\n",
    "epochs = 10000000\n",
    "# 定义线性回归模型\n",
    "def model(x):\n",
    "    y_hat = w[0]*x + w[1]*(x**2) + b\n",
    "    return y_hat"
   ]
  },
  {
   "cell_type": "code",
   "execution_count": null,
   "id": "072e9675",
   "metadata": {},
   "outputs": [],
   "source": [
    "# 指定正则项中lambda的值\n",
    "reg = 10000\n",
    "for epoch in range(epochs):\n",
    "    sum_w = np.zeros(2)\n",
    "    sum_b = 0.0\n",
    "    for i in range(n_train):\n",
    "        xi = X_train[i]\n",
    "        yi = y_train[i]\n",
    "        yi_hat = model(xi)\n",
    "        sum_w[0] += (yi_hat - yi) * xi\n",
    "        sum_w[1] += (yi_hat - yi) * (xi**2)\n",
    "        sum_b += (yi_hat - yi)\n",
    "    # 正则项在梯度下降算法中的应用\n",
    "    grad_w = (2.0 / n_train) * sum_w + (2.0 * reg * w)\n",
    "    grad_b = (2.0 / n_train) * sum_b\n",
    "    w = w - lr * grad_w\n",
    "    b = b - lr * grad_b"
   ]
  },
  {
   "cell_type": "code",
   "execution_count": null,
   "id": "8b25b1ae",
   "metadata": {},
   "outputs": [],
   "source": [
    "train_loss = loss_funtion(X_train, y_train)\n",
    "test_loss = loss_funtion(X_test, y_test)"
   ]
  },
  {
   "cell_type": "code",
   "execution_count": null,
   "id": "ce53452a",
   "metadata": {},
   "outputs": [],
   "source": []
  }
 ],
 "metadata": {
  "kernelspec": {
   "display_name": "Python 3",
   "language": "python",
   "name": "python3"
  },
  "language_info": {
   "codemirror_mode": {
    "name": "ipython",
    "version": 3
   },
   "file_extension": ".py",
   "mimetype": "text/x-python",
   "name": "python",
   "nbconvert_exporter": "python",
   "pygments_lexer": "ipython3",
   "version": "3.8.8"
  }
 },
 "nbformat": 4,
 "nbformat_minor": 5
}
