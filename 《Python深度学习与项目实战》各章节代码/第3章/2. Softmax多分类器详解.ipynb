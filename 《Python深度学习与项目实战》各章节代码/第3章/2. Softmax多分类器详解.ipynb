{
 "cells": [
  {
   "cell_type": "code",
   "execution_count": null,
   "id": "d56701a2",
   "metadata": {},
   "outputs": [],
   "source": [
    "# 加载所需要的numpy库\n",
    "import numpy as np\n",
    "# n_classes表示数据集样本标签的种类，一共有3类\n",
    "n_classes = 3\n",
    "# y表示数据集全部样本的标签\n",
    "y = np.array([0, 1, 0, 2, 1, 2, 2, 1, 0, 1])\n",
    "# 定义独热编码函数\n",
    "# 应用numpy中的eye函数生成对角矩阵来完成独热编码操作\n",
    "def one_hot_encoding(labels, n_classes):\n",
    "    result = np.eye(n_classes)[labels]\n",
    "    return result\n",
    "# 使用独热编码函数将样本标签转换为独热编码的的形式\n",
    "one_hot_encoding(y, n_classes)"
   ]
  },
  {
   "cell_type": "code",
   "execution_count": null,
   "id": "04e65ed3",
   "metadata": {},
   "outputs": [],
   "source": [
    "def categorical_cross_entropy(y, y_hat):\n",
    "    n_classes = len(y)\n",
    "    loss = 0\n",
    "    for i in range(n_classes):\n",
    "        loss += - y[i] * log(y_hat[i])\n",
    "    return loss"
   ]
  },
  {
   "cell_type": "code",
   "execution_count": null,
   "id": "7e89ca57",
   "metadata": {},
   "outputs": [],
   "source": [
    "# y为样本标签值\n",
    "y = [0, 0, 1]\n",
    "# y_hat为使用Softmax分类器得到的预测值\n",
    "y_hat = [0.1, 0.1, 0.8]\n",
    "# 使用交叉熵计算样本标签值与预测值的差距值\n",
    "loss = categorical_cross_entropy(y, y_hat)"
   ]
  },
  {
   "cell_type": "code",
   "execution_count": null,
   "id": "776a9775",
   "metadata": {},
   "outputs": [],
   "source": [
    "y = [0, 0, 1]\n",
    "y_hat = [0.1, 0.3, 0.6]\n",
    "loss = categorical_cross_entropy(y, y_hat)"
   ]
  },
  {
   "cell_type": "code",
   "execution_count": null,
   "id": "833b4126",
   "metadata": {},
   "outputs": [],
   "source": [
    "y = [0, 0, 1]\n",
    "y_hat = [0.4, 0.5, 0.1]\n",
    "loss = categorical_cross_entropy(y, y_hat)"
   ]
  },
  {
   "cell_type": "code",
   "execution_count": null,
   "id": "7dffb8ee",
   "metadata": {},
   "outputs": [],
   "source": []
  },
  {
   "cell_type": "code",
   "execution_count": null,
   "id": "b25c2366",
   "metadata": {},
   "outputs": [],
   "source": []
  },
  {
   "cell_type": "code",
   "execution_count": null,
   "id": "d782035b",
   "metadata": {},
   "outputs": [],
   "source": []
  }
 ],
 "metadata": {
  "kernelspec": {
   "display_name": "Python 3",
   "language": "python",
   "name": "python3"
  },
  "language_info": {
   "codemirror_mode": {
    "name": "ipython",
    "version": 3
   },
   "file_extension": ".py",
   "mimetype": "text/x-python",
   "name": "python",
   "nbconvert_exporter": "python",
   "pygments_lexer": "ipython3",
   "version": "3.8.8"
  }
 },
 "nbformat": 4,
 "nbformat_minor": 5
}
