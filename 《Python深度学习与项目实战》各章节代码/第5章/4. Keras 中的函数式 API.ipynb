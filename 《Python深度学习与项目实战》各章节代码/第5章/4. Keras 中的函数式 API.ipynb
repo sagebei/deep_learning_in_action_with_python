{
 "cells": [
  {
   "cell_type": "code",
   "execution_count": null,
   "id": "1494cca4",
   "metadata": {},
   "outputs": [],
   "source": [
    "from keras.layers import Input, Dense\n",
    "from keras.models import Model"
   ]
  },
  {
   "cell_type": "code",
   "execution_count": null,
   "id": "d3434ceb",
   "metadata": {},
   "outputs": [],
   "source": [
    "inputs = Input(shape=(4,))\n",
    "x = Dense(units=4, activation='relu')(inputs)\n",
    "x = Dense(units=4, activation='relu')(x)\n",
    "outputs = Dense(units=1, activation='relu')(x)\n",
    "model = Model(inputs, outputs)"
   ]
  },
  {
   "cell_type": "code",
   "execution_count": null,
   "id": "42efac60",
   "metadata": {},
   "outputs": [],
   "source": [
    "model.summary() "
   ]
  },
  {
   "cell_type": "code",
   "execution_count": null,
   "id": "247a8dac",
   "metadata": {},
   "outputs": [],
   "source": [
    "first_dense_layer = model.get_layer('dense_1')"
   ]
  },
  {
   "cell_type": "code",
   "execution_count": null,
   "id": "8c6d083f",
   "metadata": {},
   "outputs": [],
   "source": []
  },
  {
   "cell_type": "code",
   "execution_count": null,
   "id": "436fb63c",
   "metadata": {},
   "outputs": [],
   "source": []
  }
 ],
 "metadata": {
  "kernelspec": {
   "display_name": "Python 3",
   "language": "python",
   "name": "python3"
  },
  "language_info": {
   "codemirror_mode": {
    "name": "ipython",
    "version": 3
   },
   "file_extension": ".py",
   "mimetype": "text/x-python",
   "name": "python",
   "nbconvert_exporter": "python",
   "pygments_lexer": "ipython3",
   "version": "3.8.8"
  }
 },
 "nbformat": 4,
 "nbformat_minor": 5
}
