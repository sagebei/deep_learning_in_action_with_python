{
 "cells": [
  {
   "cell_type": "code",
   "execution_count": null,
   "id": "2cdffeb1",
   "metadata": {},
   "outputs": [],
   "source": [
    "import numpy as np\n",
    "import os\n",
    "import cv2\n",
    "# 数据集在硬盘中的存储位置\n",
    "dataset_path = \"H:/Datasets/PetImages\"\n",
    "# 存储猫与狗的文件夹名称分别为Cat与Dog\n",
    "categories = ['Cat', 'Dog']\n",
    "# 图片经过处理后的尺寸\n",
    "img_size = 100"
   ]
  },
  {
   "cell_type": "code",
   "execution_count": null,
   "id": "68ee5ac4",
   "metadata": {},
   "outputs": [],
   "source": [
    "# 存储处理后的数据\n",
    "dataset = []\n",
    "for category in categories:\n",
    "    # 依次获取到猫或者狗文件夹的位置\n",
    "    folder_path = os.path.join(dataset_path, category)\n",
    "    # 将猫的图片的标签设置为0，狗的图片的标签设置为1\n",
    "    class_num = categories.index(category)\n",
    "    # 获取到文件夹中全部的图片名字，并以列表的形式返回\n",
    "    img_names = os.listdir(folder_path)\n",
    "    # 依次读取文件夹中每一张图片，并对其进行处理\n",
    "    for img_name in img_names:\n",
    "        try:\n",
    "            # 将文件夹路径与图片名称进行拼接获取到完整图片路径\n",
    "            img_path = os.path.join(folder_path, img_name)\n",
    "            # 读取图片\n",
    "            img = cv2.imread(img_path, cv2.IMREAD_COLOR)\n",
    "            # 将图片的尺寸转换为100x100x3\n",
    "            img = cv2.resize(img, (img_size, img_size))\n",
    "            # 将处理好的图片与对应的标签存储在数据集中\n",
    "            dataset.append((img, class_num))\n",
    "        except Exception:\n",
    "            pass"
   ]
  },
  {
   "cell_type": "code",
   "execution_count": null,
   "id": "b8a3e39e",
   "metadata": {},
   "outputs": [],
   "source": [
    "import random\n",
    "random.shuffle(dataset)"
   ]
  },
  {
   "cell_type": "code",
   "execution_count": null,
   "id": "72fb8972",
   "metadata": {},
   "outputs": [],
   "source": [
    "# X存储处理好的图片，y存储图片对应的标签值\n",
    "X = []\n",
    "y = []\n",
    "for img, label in dataset:\n",
    "    X.append(img)\n",
    "    y.append(label)\n",
    "X = np.array(X).reshape(-1, img_size, img_size, 3)\n",
    "y = np.array(y)\n",
    "np.save('X_cat_and_dog.npy', X)\n",
    "np.save('y_cat_and_dog.npy', y)"
   ]
  },
  {
   "cell_type": "code",
   "execution_count": null,
   "id": "2fd2432d",
   "metadata": {},
   "outputs": [],
   "source": [
    "import numpy as np\n",
    "from sklearn.model_selection import train_test_split\n",
    "X = np.load('X_cat_and_dog.npy')\n",
    "# 将图片像素值进行归一化\n",
    "X = X / 255.0\n",
    "y = np.load('y_cat_and_dog.npy')\n",
    "# 将数据集的75%划分为训练集，其余25%划分为测试集\n",
    "X_train, X_test, y_train, y_test = train_test_split(X, y, test_size=0.25)"
   ]
  },
  {
   "cell_type": "code",
   "execution_count": null,
   "id": "202e1365",
   "metadata": {},
   "outputs": [],
   "source": [
    "from keras.models import Sequential\n",
    "from keras.layers import Conv2D, MaxPooling2D, Flatten, Dense, Dropout\n",
    "from keras.optimizers import Adam\n",
    "model = Sequential()\n",
    "# 第1个卷积层与池化层\n",
    "model.add(Conv2D(input_shape= X.shape[1:],\n",
    "                 filters=32, \n",
    "                 kernel_size=(3, 3), \n",
    "                 activation='relu'))\n",
    "model.add(MaxPooling2D(pool_size=(2, 2)))\n",
    "model.add(Dropout(0.2))\n",
    "# 第3个卷积层与池化层\n",
    "model.add(Conv2D(filters=64, \n",
    "                 kernel_size=(3, 3), \n",
    "                 activation='relu'))\n",
    "model.add(MaxPooling2D(pool_size=(2, 2)))\n",
    "model.add(Dropout(0.2))\n",
    "# 第3个卷积层与池化层\n",
    "model.add(Conv2D(filters=128, \n",
    "                 kernel_size=(3, 3), \n",
    "                 activation='relu'))\n",
    "model.add(MaxPooling2D(pool_size=(2, 2)))\n",
    "model.add(Dropout(0.2))\n",
    "# 第4个卷积层与池化层\n",
    "model.add(Conv2D(filters=128, \n",
    "                 kernel_size=(3, 3), \n",
    "                 activation='relu'))\n",
    "model.add(MaxPooling2D(pool_size=(2, 2)))\n",
    "model.add(Dropout(0.2))\n",
    "# 扁平化层\n",
    "model.add(Flatten())\n",
    "# 全连接神经网络\n",
    "model.add(Dense(256))\n",
    "model.add(Dropout(0.2))\n",
    "model.add(Dense(1, activation='sigmoid'))"
   ]
  },
  {
   "cell_type": "code",
   "execution_count": null,
   "id": "0415bd3d",
   "metadata": {},
   "outputs": [],
   "source": [
    "# 在模型训练时应用早停法\n",
    "from keras.callbacks import EarlyStopping\n",
    "monitor = EarlyStopping(monitor='val_loss', \n",
    "                        patience=5,\n",
    "                        mode='auto',\n",
    "                        restore_best_weights=True)"
   ]
  },
  {
   "cell_type": "code",
   "execution_count": null,
   "id": "96c0ff37",
   "metadata": {},
   "outputs": [],
   "source": [
    "model.compile(loss=\"binary_crossentropy\",\n",
    "              optimizer=Adam(),\n",
    "              metrics=['accuracy'])\n",
    "model.fit(X_train,\n",
    "          y_train,\n",
    "          epochs=50,\n",
    "          batch_size=64,\n",
    "          verbose=2,\n",
    "          callbacks=[monitor],\n",
    "          validation_split=0.2)"
   ]
  },
  {
   "cell_type": "code",
   "execution_count": null,
   "id": "4a8139bd",
   "metadata": {},
   "outputs": [],
   "source": []
  },
  {
   "cell_type": "code",
   "execution_count": null,
   "id": "d782d994",
   "metadata": {},
   "outputs": [],
   "source": []
  }
 ],
 "metadata": {
  "kernelspec": {
   "display_name": "Python 3",
   "language": "python",
   "name": "python3"
  },
  "language_info": {
   "codemirror_mode": {
    "name": "ipython",
    "version": 3
   },
   "file_extension": ".py",
   "mimetype": "text/x-python",
   "name": "python",
   "nbconvert_exporter": "python",
   "pygments_lexer": "ipython3",
   "version": "3.8.8"
  }
 },
 "nbformat": 4,
 "nbformat_minor": 5
}
