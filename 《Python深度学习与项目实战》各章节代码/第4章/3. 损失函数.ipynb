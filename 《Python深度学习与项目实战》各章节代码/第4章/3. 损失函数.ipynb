{
 "cells": [
  {
   "cell_type": "code",
   "execution_count": 5,
   "id": "a5444b83",
   "metadata": {},
   "outputs": [],
   "source": [
    "import numpy as np"
   ]
  },
  {
   "cell_type": "code",
   "execution_count": 6,
   "id": "834a4f6b",
   "metadata": {},
   "outputs": [
    {
     "name": "stdout",
     "output_type": "stream",
     "text": [
      "20.036666666666665\n",
      "0.586666666666666\n"
     ]
    }
   ],
   "source": [
    "def mean_square_error(y, y_hat):\n",
    "    n = len(y)\n",
    "    loss = 0\n",
    "    for i, j in zip(y, y_hat):\n",
    "        loss += (i - j) ** 2\n",
    "    loss = (1 / n) * loss\n",
    "    return loss\n",
    "# 模型预测值与样本标签值差距较大\n",
    "y = [5.6, 9.6, 1.3]\n",
    "y_hat = [2.5, 4.1, 5.8]\n",
    "loss = mean_square_error(y, y_hat)\n",
    "print(loss) # 20.03\n",
    "# 模型预测值与样本标签值差距较小\n",
    "y = [5.6, 9.6, 1.3]\n",
    "y_hat = [5.2, 8.4, 0.9]\n",
    "loss = mean_square_error(y, y_hat)\n",
    "print(loss) # 0.58"
   ]
  },
  {
   "cell_type": "code",
   "execution_count": 7,
   "id": "ee238156",
   "metadata": {},
   "outputs": [
    {
     "name": "stdout",
     "output_type": "stream",
     "text": [
      "4.366666666666666\n",
      "0.6666666666666662\n"
     ]
    }
   ],
   "source": [
    "def mean_absolute_error(y, y_hat):\n",
    "    n = len(y)\n",
    "    loss = 0\n",
    "    for i, j in zip(y, y_hat):\n",
    "        loss += np.abs(i - j)\n",
    "    loss = (1 / n) * loss\n",
    "    return loss\n",
    "# 模型预测值与样本标签值差距较大\n",
    "y = [5.6, 9.6, 1.3]\n",
    "y_hat = [2.5, 4.1, 5.8]\n",
    "loss = mean_absolute_error(y, y_hat)\n",
    "print(loss) # 4.36\n",
    "# 模型预测值与样本标签值差距较小\n",
    "y = [5.6, 9.6, 1.3]\n",
    "y_hat = [5.2, 8.4, 0.9]\n",
    "loss = mean_absolute_error(y, y_hat)\n",
    "print(loss) # 0.66"
   ]
  },
  {
   "cell_type": "code",
   "execution_count": null,
   "id": "08038a61",
   "metadata": {},
   "outputs": [],
   "source": []
  },
  {
   "cell_type": "code",
   "execution_count": null,
   "id": "0e56fbbf",
   "metadata": {},
   "outputs": [],
   "source": []
  }
 ],
 "metadata": {
  "kernelspec": {
   "display_name": "Python 3",
   "language": "python",
   "name": "python3"
  },
  "language_info": {
   "codemirror_mode": {
    "name": "ipython",
    "version": 3
   },
   "file_extension": ".py",
   "mimetype": "text/x-python",
   "name": "python",
   "nbconvert_exporter": "python",
   "pygments_lexer": "ipython3",
   "version": "3.8.8"
  }
 },
 "nbformat": 4,
 "nbformat_minor": 5
}
