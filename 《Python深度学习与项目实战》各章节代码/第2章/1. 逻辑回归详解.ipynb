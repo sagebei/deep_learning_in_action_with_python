{
 "cells": [
  {
   "cell_type": "markdown",
   "id": "7801bf38",
   "metadata": {},
   "source": [
    "### 1. Sigmoid函数"
   ]
  },
  {
   "cell_type": "code",
   "execution_count": null,
   "id": "f9fa52e9",
   "metadata": {},
   "outputs": [],
   "source": [
    "import numpy as np\n",
    "def sigmoid(x):\n",
    "    y = 1 / (1 + np.exp(-x))\n",
    "    return y"
   ]
  },
  {
   "cell_type": "code",
   "execution_count": null,
   "id": "dcee21f9",
   "metadata": {},
   "outputs": [],
   "source": [
    "import matplotlib.pyplot as plt\n",
    "%matplotlib inline\n",
    "x = np.arange(-10, 10, 0.1)\n",
    "y = sigmoid(x)\n",
    "plt.plot(x, y)\n",
    "plt.scatter(0, sigmoid(0))\n",
    "plt.show()"
   ]
  },
  {
   "cell_type": "markdown",
   "id": "2cb9bd9e",
   "metadata": {},
   "source": [
    "### 2. 二元交叉熵代码实战"
   ]
  },
  {
   "cell_type": "code",
   "execution_count": null,
   "id": "ce719815",
   "metadata": {},
   "outputs": [],
   "source": [
    "from numpy import log\n",
    "def binary_cross_entropy(y, y_hat):\n",
    "    loss = - y * log(y_hat) - (1 - y) * log(1 - y_hat)\n",
    "    return loss"
   ]
  },
  {
   "cell_type": "code",
   "execution_count": null,
   "id": "198935f1",
   "metadata": {},
   "outputs": [],
   "source": [
    "binary_cross_entropy(0, 0.01)\n",
    "binary_cross_entropy(1, 0.99)\n",
    "binary_cross_entropy(0, 0.8)\n",
    "binary_cross_entropy(1, 0.2)"
   ]
  },
  {
   "cell_type": "code",
   "execution_count": null,
   "id": "ea2ba71c",
   "metadata": {},
   "outputs": [],
   "source": []
  }
 ],
 "metadata": {
  "kernelspec": {
   "display_name": "Python 3",
   "language": "python",
   "name": "python3"
  },
  "language_info": {
   "codemirror_mode": {
    "name": "ipython",
    "version": 3
   },
   "file_extension": ".py",
   "mimetype": "text/x-python",
   "name": "python",
   "nbconvert_exporter": "python",
   "pygments_lexer": "ipython3",
   "version": "3.8.8"
  }
 },
 "nbformat": 4,
 "nbformat_minor": 5
}
