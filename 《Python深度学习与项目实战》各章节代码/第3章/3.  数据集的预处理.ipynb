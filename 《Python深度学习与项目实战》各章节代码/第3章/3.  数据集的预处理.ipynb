{
 "cells": [
  {
   "cell_type": "markdown",
   "id": "99ac9a06",
   "metadata": {},
   "source": [
    "### 1. 数据集特征值的归一化"
   ]
  },
  {
   "cell_type": "code",
   "execution_count": null,
   "id": "f278bfa0",
   "metadata": {},
   "outputs": [],
   "source": [
    "import numpy as np\n",
    "X = [[-1, 2], \n",
    "     [-0.5, 6], \n",
    "     [0, 10], \n",
    "     [1, 18]]\n",
    "X = np.array(X)"
   ]
  },
  {
   "cell_type": "code",
   "execution_count": null,
   "id": "b1144003",
   "metadata": {},
   "outputs": [],
   "source": [
    "X_min = X.min(axis=0)\n",
    "X_max = X.max(axis=0)\n",
    "X_normalized = (X - X_min) / (X_max - X_min) "
   ]
  },
  {
   "cell_type": "code",
   "execution_count": null,
   "id": "1e0ecc5d",
   "metadata": {},
   "outputs": [],
   "source": [
    "from sklearn.preprocessing import MinMaxScaler\n",
    "sc = MinMaxScaler(feature_range=(0, 1))\n",
    "X_normalized = sc.fit_transform(X)"
   ]
  },
  {
   "cell_type": "code",
   "execution_count": null,
   "id": "47091e1e",
   "metadata": {},
   "outputs": [],
   "source": [
    "X_restored = sc.inverse_transform(X_normalized)\n",
    "print(X == X_restored)"
   ]
  },
  {
   "cell_type": "markdown",
   "id": "56ca83f3",
   "metadata": {},
   "source": [
    "### 2. 图片的扁平化"
   ]
  },
  {
   "cell_type": "code",
   "execution_count": null,
   "id": "a27f711c",
   "metadata": {},
   "outputs": [],
   "source": [
    "import numpy as np\n",
    "image = [[1, 2, 3],\n",
    "         [4, 5, 6],\n",
    "         [7, 8, 9]]\n",
    "image = np.array(image)\t\n",
    "# 使用numpy中的reshape函数对图片进行扁平化操作\n",
    "image = image.reshape((1, 9))\n",
    "# 打印出经过扁平化操作的图片\n",
    "print(image)"
   ]
  },
  {
   "cell_type": "code",
   "execution_count": null,
   "id": "98cf6f68",
   "metadata": {},
   "outputs": [],
   "source": []
  }
 ],
 "metadata": {
  "kernelspec": {
   "display_name": "Python 3",
   "language": "python",
   "name": "python3"
  },
  "language_info": {
   "codemirror_mode": {
    "name": "ipython",
    "version": 3
   },
   "file_extension": ".py",
   "mimetype": "text/x-python",
   "name": "python",
   "nbconvert_exporter": "python",
   "pygments_lexer": "ipython3",
   "version": "3.8.8"
  }
 },
 "nbformat": 4,
 "nbformat_minor": 5
}
