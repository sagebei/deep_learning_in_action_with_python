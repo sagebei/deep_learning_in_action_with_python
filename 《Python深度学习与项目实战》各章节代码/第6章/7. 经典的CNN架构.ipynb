{
 "cells": [
  {
   "cell_type": "markdown",
   "id": "d830f3cb",
   "metadata": {},
   "source": [
    "### 1. ResNet "
   ]
  },
  {
   "cell_type": "code",
   "execution_count": null,
   "id": "8dbf2628",
   "metadata": {},
   "outputs": [],
   "source": [
    "from keras.models import Model\n",
    "from keras.layers import Input, Conv2D, MaxPooling2D, Dense, Flatten\n",
    "from keras.layers import Dropout, BatchNormalization, Activation, add\n",
    "from keras.optimizers import Adam\n",
    "# ResNet单元的构建\n",
    "def Res_layer(x, filters, pooling=False, dropout=0.0):\n",
    "    temp = x\n",
    "    # 第一个卷积层\n",
    "    temp = Conv2D(filters, (3,3), padding=\"same\")(temp)\n",
    "    temp = BatchNormalization()(temp)\n",
    "    temp = Activation(\"relu\")(temp)\n",
    "    # 第二个卷积层\n",
    "    temp = Conv2D(filters, (3,3), padding=\"same\")(temp)\n",
    "    # 将x与第二个卷积层的输出相加\n",
    "    x = add([temp, Conv2D(filters, (3,3), padding=\"same\")(x)])\n",
    "    if pooling:\n",
    "        x = MaxPooling2D((2,2))(x)\n",
    "    if dropout != 0.0:\n",
    "        x = Dropout(dropout)(x)\n",
    "    x = BatchNormalization()(x)\n",
    "    # 将最后的结果使用ReLu激活函数进行处理\n",
    "    outputs = Activation(\"relu\")(x)\n",
    "    return outputs"
   ]
  },
  {
   "cell_type": "code",
   "execution_count": null,
   "id": "075abaf0",
   "metadata": {},
   "outputs": [],
   "source": [
    "inputs = Input(shape = (100, 100, 3))\n",
    "x = Res_layer(inputs, 32, pooling=True, dropout=0.3)\n",
    "x = Res_layer(x, 32, pooling=True, dropout=0.3)\n",
    "x = Res_layer(x, 64, pooling=True, dropout=0.3)\n",
    "x = Res_layer(x, 64, pooling=True, dropout=0.3)\n",
    "x = Res_layer(x, 128, pooling=True, dropout=0.3)\n",
    "x = Res_layer(x, 128, pooling=True, dropout=0.3)\n",
    "x = Flatten()(x)\n",
    "x = Dropout(0.5)(x)\n",
    "outputs = Dense(1, activation = \"sigmoid\")(x)\n",
    "resnet_model = Model(inputs, outputs)"
   ]
  },
  {
   "cell_type": "code",
   "execution_count": null,
   "id": "f02c9dc1",
   "metadata": {},
   "outputs": [],
   "source": [
    "resnet_model.compile(loss='binary_crossentropy',\n",
    "                     optimizer=Adam(),\n",
    "                     metrics=['accuracy'])\n",
    "resnet_model.fit(X_train, \n",
    "                 y_train, \n",
    "                 epochs=20, \n",
    "                 batch_size=64, \n",
    "                 verbose=2,\n",
    "                 validation_split=0.2)"
   ]
  },
  {
   "cell_type": "markdown",
   "id": "5283c37d",
   "metadata": {},
   "source": [
    "### 2. Inception网络"
   ]
  },
  {
   "cell_type": "code",
   "execution_count": null,
   "id": "85165b22",
   "metadata": {},
   "outputs": [],
   "source": [
    "from keras.models import Model\n",
    "from keras.layers import Input, Conv2D, MaxPooling2D, Dense\n",
    "from keras.layers import Flatten, Dropout, concatenate\n",
    "from keras.optimizers import Adam"
   ]
  },
  {
   "cell_type": "code",
   "execution_count": null,
   "id": "5f1e195e",
   "metadata": {},
   "outputs": [],
   "source": [
    "def Inception_Layer(inputs):\n",
    "    # 第一部分\n",
    "    layer1 = Conv2D(filters=32,\n",
    "                    kernel_size=(1, 1),\n",
    "                    strides=1,\n",
    "                    padding='same',\n",
    "                    activation='relu')(inputs)\n",
    "    # 第二部分\n",
    "    layer2 = Conv2D(filters=32,\n",
    "                    kernel_size=(1, 1),\n",
    "                    strides=1,\n",
    "                    padding='same',\n",
    "                    activation='relu')(inputs)\n",
    "    layer2 = Conv2D(filters=64,\n",
    "                    kernel_size=(3, 3),\n",
    "                    strides=1,\n",
    "                    padding='same',\n",
    "                    activation='relu')(layer2)\n",
    "    # 第三部分\n",
    "    layer3 = Conv2D(filters=32,\n",
    "                    kernel_size=(1, 1),\n",
    "                    strides=1,\n",
    "                    padding='same',\n",
    "                    activation='relu')(inputs)\n",
    "    layer3 = Conv2D(filters=64,\n",
    "                    kernel_size=(5, 5),\n",
    "                    strides=1,\n",
    "                    padding='same',\n",
    "                    activation='relu')(layer3)\n",
    "    # 第四部分\n",
    "    layer4 = MaxPooling2D(pool_size=(3, 3),\n",
    "                          strides=1,\n",
    "                          padding='same')(inputs)\n",
    "    layer4 = Conv2D(filters=64,\n",
    "                    kernel_size=(1, 1),\n",
    "                    strides=1,\n",
    "                    padding='same',\n",
    "                    activation='relu')(layer4)\n",
    "    # 将所有部分的输出结果拼接起来\n",
    "    layers = [layer1, layer2, layer3, layer4]\n",
    "    outputs = concatenate(layers, axis=3)\n",
    "    return outputs"
   ]
  },
  {
   "cell_type": "code",
   "execution_count": null,
   "id": "f919f812",
   "metadata": {},
   "outputs": [],
   "source": [
    "inputs = Input(shape = (100, 100, 3))\n",
    "x = Inception_Layer(inputs)\n",
    "x = MaxPooling2D((2, 2))(x)\n",
    "x = Flatten()(x)\n",
    "x = Dropout(0.5)(x)\n",
    "outputs = Dense(1, activation=\"sigmoid\")(x)\n",
    "inception_model = Model(inputs, outputs)\n",
    "inception_model.compile(loss='binary_crossentropy',\n",
    "                     optimizer=Adam(),\n",
    "                     metrics=['accuracy'])\n",
    "inception_model.fit(X_train,\n",
    "                    y_train,\n",
    "                    epochs=10,\n",
    "                    batch_size=32,\n",
    "                    validation_split=0.2)"
   ]
  }
 ],
 "metadata": {
  "kernelspec": {
   "display_name": "Python 3",
   "language": "python",
   "name": "python3"
  },
  "language_info": {
   "codemirror_mode": {
    "name": "ipython",
    "version": 3
   },
   "file_extension": ".py",
   "mimetype": "text/x-python",
   "name": "python",
   "nbconvert_exporter": "python",
   "pygments_lexer": "ipython3",
   "version": "3.8.8"
  }
 },
 "nbformat": 4,
 "nbformat_minor": 5
}
