{
 "cells": [
  {
   "cell_type": "code",
   "execution_count": 1,
   "metadata": {},
   "outputs": [],
   "source": [
    "import numpy as np\n",
    "X = np.load('datasets/delivery_review.npy')\n",
    "y = np.load('datasets/delivery_label.npy')"
   ]
  },
  {
   "cell_type": "code",
   "execution_count": 2,
   "metadata": {},
   "outputs": [],
   "source": [
    "with open('datasets/chinese_stop_words.txt', encoding='utf-8') as text:\n",
    "    stopwords = [line.strip() for line in text]"
   ]
  },
  {
   "cell_type": "code",
   "execution_count": 3,
   "metadata": {},
   "outputs": [
    {
     "name": "stderr",
     "output_type": "stream",
     "text": [
      "Building prefix dict from the default dictionary ...\n",
      "Loading model from cache C:\\Users\\BEIZHO~1\\AppData\\Local\\Temp\\jieba.cache\n",
      "Loading model cost 0.843 seconds.\n",
      "Prefix dict has been built succesfully.\n"
     ]
    }
   ],
   "source": [
    "import jieba\n",
    "X_new = []\n",
    "for review in X:\n",
    "    review = list(jieba.cut(review))\n",
    "    result = []\n",
    "    for word in review:\n",
    "        if word not in stopwords:\n",
    "            result.append(word)\n",
    "    X_new.append(\" \".join(result))\n",
    "X_new = np.array(X_new)"
   ]
  },
  {
   "cell_type": "code",
   "execution_count": 4,
   "metadata": {},
   "outputs": [],
   "source": [
    "from sklearn.model_selection import train_test_split\n",
    "X_train, X_test, y_train, y_test = train_test_split(X_new, y, test_size=0.2, shuffle=True)"
   ]
  },
  {
   "cell_type": "code",
   "execution_count": 5,
   "metadata": {},
   "outputs": [
    {
     "name": "stderr",
     "output_type": "stream",
     "text": [
      "Using TensorFlow backend.\n"
     ]
    }
   ],
   "source": [
    "from keras.preprocessing.text import Tokenizer\n",
    "from keras.preprocessing.sequence import pad_sequences\n",
    "maxlen = max([len(sentence.split(\" \")) for sentence in X_new])\n",
    "words_size = 10000\n",
    "tokenizer = Tokenizer(num_words=words_size)\n",
    "tokenizer.fit_on_texts(X_new)\n",
    "sequences = tokenizer.texts_to_sequences(X_train)\n",
    "X_train = pad_sequences(sequences, \n",
    "                        maxlen=maxlen, \n",
    "                        padding='pre')\n",
    "sequences = tokenizer.texts_to_sequences(X_test)\n",
    "X_test = pad_sequences(sequences, \n",
    "                       maxlen=maxlen, \n",
    "                       padding='pre')"
   ]
  },
  {
   "cell_type": "code",
   "execution_count": 6,
   "metadata": {},
   "outputs": [
    {
     "name": "stdout",
     "output_type": "stream",
     "text": [
      "WARNING:tensorflow:From D:\\Anaconda3\\lib\\site-packages\\tensorflow\\python\\framework\\op_def_library.py:263: colocate_with (from tensorflow.python.framework.ops) is deprecated and will be removed in a future version.\n",
      "Instructions for updating:\n",
      "Colocations handled automatically by placer.\n",
      "WARNING:tensorflow:From D:\\Anaconda3\\lib\\site-packages\\keras\\backend\\tensorflow_backend.py:3445: calling dropout (from tensorflow.python.ops.nn_ops) with keep_prob is deprecated and will be removed in a future version.\n",
      "Instructions for updating:\n",
      "Please use `rate` instead of `keep_prob`. Rate should be set to `rate = 1 - keep_prob`.\n",
      "_________________________________________________________________\n",
      "Layer (type)                 Output Shape              Param #   \n",
      "=================================================================\n",
      "embedding_1 (Embedding)      (None, 135, 32)           320000    \n",
      "_________________________________________________________________\n",
      "bidirectional_1 (Bidirection (None, 135, 128)          49664     \n",
      "_________________________________________________________________\n",
      "bidirectional_2 (Bidirection (None, 256)               263168    \n",
      "_________________________________________________________________\n",
      "dropout_1 (Dropout)          (None, 256)               0         \n",
      "_________________________________________________________________\n",
      "dense_1 (Dense)              (None, 1)                 257       \n",
      "=================================================================\n",
      "Total params: 633,089\n",
      "Trainable params: 633,089\n",
      "Non-trainable params: 0\n",
      "_________________________________________________________________\n"
     ]
    }
   ],
   "source": [
    "from keras.models import Sequential\n",
    "from keras.layers import Embedding, Bidirectional, LSTM, Dropout, Dense \n",
    "from keras.optimizers import Adam\n",
    "embedding_dim = 32\n",
    "model = Sequential()\n",
    "model.add(Embedding(input_dim=words_size, \n",
    "                    input_length=maxlen,\n",
    "                    output_dim=embedding_dim))\n",
    "model.add(Bidirectional(LSTM(units=64,\n",
    "                             return_sequences=True, \n",
    "                             recurrent_dropout=0.2)))\n",
    "model.add(Bidirectional(LSTM(units=128,\n",
    "                             return_sequences=False, \n",
    "                             recurrent_dropout=0.2)))\n",
    "model.add(Dropout(0.2))\n",
    "model.add(Dense(units=1, \n",
    "                activation='sigmoid'))\n",
    "model.summary()"
   ]
  },
  {
   "cell_type": "code",
   "execution_count": 7,
   "metadata": {},
   "outputs": [
    {
     "name": "stdout",
     "output_type": "stream",
     "text": [
      "WARNING:tensorflow:From D:\\Anaconda3\\lib\\site-packages\\tensorflow\\python\\ops\\math_ops.py:3066: to_int32 (from tensorflow.python.ops.math_ops) is deprecated and will be removed in a future version.\n",
      "Instructions for updating:\n",
      "Use tf.cast instead.\n",
      "Train on 5120 samples, validate on 1280 samples\n",
      "Epoch 1/5\n",
      " - 197s - loss: 0.5023 - acc: 0.7469 - val_loss: 0.3823 - val_acc: 0.8492\n",
      "Epoch 2/5\n",
      " - 187s - loss: 0.3043 - acc: 0.8762 - val_loss: 0.3834 - val_acc: 0.8289\n",
      "Epoch 3/5\n",
      " - 195s - loss: 0.2266 - acc: 0.9139 - val_loss: 0.3796 - val_acc: 0.8422\n",
      "Epoch 4/5\n",
      " - 178s - loss: 0.1762 - acc: 0.9367 - val_loss: 0.4203 - val_acc: 0.8313\n",
      "Epoch 5/5\n",
      " - 193s - loss: 0.1453 - acc: 0.9502 - val_loss: 0.5071 - val_acc: 0.8227\n"
     ]
    },
    {
     "data": {
      "text/plain": [
       "<keras.callbacks.History at 0x1d8ae743a90>"
      ]
     },
     "execution_count": 7,
     "metadata": {},
     "output_type": "execute_result"
    }
   ],
   "source": [
    "model.compile(optimizer=Adam(),\n",
    "              loss='binary_crossentropy',\n",
    "              metrics=['accuracy'])\n",
    "model.fit(X_train, \n",
    "          y_train, \n",
    "          epochs=5, \n",
    "          batch_size=32, \n",
    "          verbose=2,\n",
    "          validation_split=0.2)"
   ]
  },
  {
   "cell_type": "code",
   "execution_count": null,
   "metadata": {},
   "outputs": [],
   "source": []
  },
  {
   "cell_type": "code",
   "execution_count": null,
   "metadata": {},
   "outputs": [],
   "source": []
  },
  {
   "cell_type": "code",
   "execution_count": null,
   "metadata": {},
   "outputs": [],
   "source": []
  }
 ],
 "metadata": {
  "kernelspec": {
   "display_name": "Python 3",
   "language": "python",
   "name": "python3"
  },
  "language_info": {
   "codemirror_mode": {
    "name": "ipython",
    "version": 3
   },
   "file_extension": ".py",
   "mimetype": "text/x-python",
   "name": "python",
   "nbconvert_exporter": "python",
   "pygments_lexer": "ipython3",
   "version": "3.6.5"
  }
 },
 "nbformat": 4,
 "nbformat_minor": 2
}
