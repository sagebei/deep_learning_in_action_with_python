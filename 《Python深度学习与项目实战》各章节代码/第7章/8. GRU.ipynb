{
 "cells": [
  {
   "cell_type": "code",
   "execution_count": 1,
   "metadata": {},
   "outputs": [],
   "source": [
    "import numpy as np\n",
    "X = np.load('datasets/delivery_review.npy')\n",
    "y = np.load('datasets/delivery_label.npy')"
   ]
  },
  {
   "cell_type": "code",
   "execution_count": 2,
   "metadata": {},
   "outputs": [],
   "source": [
    "with open('datasets/chinese_stop_words.txt', encoding=\"utf-8\") as text:\n",
    "    stopwords = [line.strip() for line in  text]"
   ]
  },
  {
   "cell_type": "code",
   "execution_count": 3,
   "metadata": {},
   "outputs": [
    {
     "name": "stderr",
     "output_type": "stream",
     "text": [
      "Building prefix dict from the default dictionary ...\n",
      "Loading model from cache C:\\Users\\BEIZHO~1\\AppData\\Local\\Temp\\jieba.cache\n",
      "Loading model cost 0.786 seconds.\n",
      "Prefix dict has been built succesfully.\n"
     ]
    }
   ],
   "source": [
    "import jieba\n",
    "X_new = []\n",
    "for i, review in enumerate(X):\n",
    "    review = list(jieba.cut(review))\n",
    "    result = []\n",
    "    for word in review:\n",
    "        if word not in stopwords:\n",
    "            result.append(word)\n",
    "    X_new.append(\" \".join(result))\n",
    "X_new = np.array(X_new)"
   ]
  },
  {
   "cell_type": "code",
   "execution_count": 4,
   "metadata": {},
   "outputs": [
    {
     "data": {
      "text/plain": [
       "'分量 特色 下回 不吃'"
      ]
     },
     "execution_count": 4,
     "metadata": {},
     "output_type": "execute_result"
    }
   ],
   "source": [
    "X_new[1]"
   ]
  },
  {
   "cell_type": "code",
   "execution_count": 5,
   "metadata": {},
   "outputs": [],
   "source": [
    "from sklearn.model_selection import train_test_split\n",
    "X_train, X_test, y_train, y_test = train_test_split(X_new, y, test_size=0.2, shuffle=True)"
   ]
  },
  {
   "cell_type": "code",
   "execution_count": 6,
   "metadata": {},
   "outputs": [
    {
     "name": "stderr",
     "output_type": "stream",
     "text": [
      "Using TensorFlow backend.\n"
     ]
    }
   ],
   "source": [
    "from keras.preprocessing.text import Tokenizer\n",
    "from keras.preprocessing.sequence import pad_sequences\n",
    "\n",
    "maxlen = max([len(sentence.split(\" \")) for sentence in X_new])\n",
    "\n",
    "words_size = 10000\n",
    "tokenizer = Tokenizer(num_words=words_size)\n",
    "tokenizer.fit_on_texts(X_new)\n",
    "\n",
    "sequences = tokenizer.texts_to_sequences(X_train)\n",
    "X_train = pad_sequences(sequences, \n",
    "                        maxlen=maxlen, \n",
    "                        padding='pre')\n",
    "\n",
    "sequences = tokenizer.texts_to_sequences(X_test)\n",
    "X_test = pad_sequences(sequences, \n",
    "                       maxlen=maxlen, \n",
    "                       padding='pre')"
   ]
  },
  {
   "cell_type": "code",
   "execution_count": 7,
   "metadata": {},
   "outputs": [
    {
     "name": "stdout",
     "output_type": "stream",
     "text": [
      "WARNING:tensorflow:From D:\\Anaconda3\\lib\\site-packages\\tensorflow\\python\\framework\\op_def_library.py:263: colocate_with (from tensorflow.python.framework.ops) is deprecated and will be removed in a future version.\n",
      "Instructions for updating:\n",
      "Colocations handled automatically by placer.\n",
      "_________________________________________________________________\n",
      "Layer (type)                 Output Shape              Param #   \n",
      "=================================================================\n",
      "embedding_1 (Embedding)      (None, 135, 32)           320000    \n",
      "_________________________________________________________________\n",
      "gru_1 (GRU)                  (None, 256)               221952    \n",
      "_________________________________________________________________\n",
      "dense_1 (Dense)              (None, 1)                 257       \n",
      "=================================================================\n",
      "Total params: 542,209\n",
      "Trainable params: 542,209\n",
      "Non-trainable params: 0\n",
      "_________________________________________________________________\n"
     ]
    }
   ],
   "source": [
    "from keras.models import Sequential\n",
    "from keras.layers import Embedding, GRU, Dense\n",
    "from keras.optimizers import Adam\n",
    "\n",
    "embedding_dim = 32\n",
    "model = Sequential()\n",
    "model.add(Embedding(input_dim=words_size, \n",
    "                    input_length=maxlen,\n",
    "                    output_dim=embedding_dim))\n",
    "model.add(GRU(units=256))\n",
    "model.add(Dense(units=1, \n",
    "                activation='sigmoid'))\n",
    "model.summary()"
   ]
  },
  {
   "cell_type": "code",
   "execution_count": 8,
   "metadata": {},
   "outputs": [
    {
     "name": "stdout",
     "output_type": "stream",
     "text": [
      "WARNING:tensorflow:From D:\\Anaconda3\\lib\\site-packages\\tensorflow\\python\\ops\\math_ops.py:3066: to_int32 (from tensorflow.python.ops.math_ops) is deprecated and will be removed in a future version.\n",
      "Instructions for updating:\n",
      "Use tf.cast instead.\n",
      "Train on 5120 samples, validate on 1280 samples\n",
      "Epoch 1/5\n",
      " - 52s - loss: 0.4999 - acc: 0.7639 - val_loss: 0.3806 - val_acc: 0.8336\n",
      "Epoch 2/5\n",
      " - 46s - loss: 0.2929 - acc: 0.8855 - val_loss: 0.3590 - val_acc: 0.8547\n",
      "Epoch 3/5\n",
      " - 47s - loss: 0.2308 - acc: 0.9133 - val_loss: 0.3949 - val_acc: 0.8445\n",
      "Epoch 4/5\n",
      " - 47s - loss: 0.1744 - acc: 0.9354 - val_loss: 0.4315 - val_acc: 0.8297\n",
      "Epoch 5/5\n",
      " - 50s - loss: 0.1399 - acc: 0.9463 - val_loss: 0.5090 - val_acc: 0.8305\n"
     ]
    },
    {
     "data": {
      "text/plain": [
       "<keras.callbacks.History at 0x27b47ac74e0>"
      ]
     },
     "execution_count": 8,
     "metadata": {},
     "output_type": "execute_result"
    }
   ],
   "source": [
    "model.compile(optimizer=Adam(),\n",
    "              loss='binary_crossentropy',\n",
    "              metrics=['accuracy'])\n",
    "model.fit(X_train,\n",
    "          y_train,\n",
    "          epochs=5,\n",
    "          batch_size=32,\n",
    "          verbose=2,\n",
    "          validation_split=0.2)"
   ]
  },
  {
   "cell_type": "code",
   "execution_count": null,
   "metadata": {},
   "outputs": [],
   "source": []
  }
 ],
 "metadata": {
  "kernelspec": {
   "display_name": "Python 3",
   "language": "python",
   "name": "python3"
  },
  "language_info": {
   "codemirror_mode": {
    "name": "ipython",
    "version": 3
   },
   "file_extension": ".py",
   "mimetype": "text/x-python",
   "name": "python",
   "nbconvert_exporter": "python",
   "pygments_lexer": "ipython3",
   "version": "3.6.5"
  }
 },
 "nbformat": 4,
 "nbformat_minor": 2
}
