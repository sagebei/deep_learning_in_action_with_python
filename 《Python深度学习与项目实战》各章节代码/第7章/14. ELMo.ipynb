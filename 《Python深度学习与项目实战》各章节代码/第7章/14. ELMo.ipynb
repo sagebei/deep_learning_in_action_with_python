{
 "cells": [
  {
   "cell_type": "code",
   "execution_count": 1,
   "metadata": {},
   "outputs": [],
   "source": [
    "import pandas as pd\n",
    "# 加载数据集\n",
    "path = \"datasets/spam.csv\"\n",
    "data = pd.read_csv(path, encoding='latin-1')\n",
    "# 获得短信文字内容（特征值）\n",
    "X = data['v2'].values\n",
    "# 获得标签，并将标签转化为0与1的形式\n",
    "y = data['v1'].astype('category').cat.codes.values\n",
    "# 将数据集分为训练集与测试集\n",
    "X_train = X[0: 2000]\n",
    "y_train = y[0: 2000]\n",
    "X_test = X[2000: 2200]\n",
    "y_test = y[2000: 2200]"
   ]
  },
  {
   "cell_type": "code",
   "execution_count": 2,
   "metadata": {},
   "outputs": [
    {
     "name": "stderr",
     "output_type": "stream",
     "text": [
      "Using TensorFlow backend.\n"
     ]
    }
   ],
   "source": [
    "from keras import backend as K\n",
    "from keras.layers import Layer\n",
    "import tensorflow_hub as hub\n",
    "import tensorflow as tf\n",
    "class ElmoEmbeddingLayer(Layer):\n",
    "    def __init__(self):\n",
    "        super(ElmoEmbeddingLayer, self).__init__()\n",
    "    def build(self, input_shape):\n",
    "        # 加载ELMO模型\n",
    "        self.elmo = hub.Module(\"https://tfhub.dev/google/elmo/3\", trainable=True)\n",
    "        super(ElmoEmbeddingLayer, self).build(input_shape)\n",
    "    def call(self, x):\n",
    "        # 指定ELMO模型相关参数\n",
    "        result = self.elmo(K.squeeze(K.cast(x, tf.string), axis=1), \n",
    "                           as_dict=True, \n",
    "                           signature='default')['default']\n",
    "        return result\n",
    "    def compute_output_shape(self, input_shape):\n",
    "        # 指定ELMO模型的输出数据\n",
    "        return (input_shape[0], 1024)"
   ]
  },
  {
   "cell_type": "code",
   "execution_count": 3,
   "metadata": {},
   "outputs": [
    {
     "name": "stdout",
     "output_type": "stream",
     "text": [
      "WARNING:tensorflow:From D:\\Anaconda3\\lib\\site-packages\\tensorflow\\python\\ops\\control_flow_ops.py:3632: colocate_with (from tensorflow.python.framework.ops) is deprecated and will be removed in a future version.\n",
      "Instructions for updating:\n",
      "Colocations handled automatically by placer.\n"
     ]
    },
    {
     "name": "stderr",
     "output_type": "stream",
     "text": [
      "WARNING: Logging before flag parsing goes to stderr.\n",
      "W0318 23:37:21.739906  5752 deprecation.py:323] From D:\\Anaconda3\\lib\\site-packages\\tensorflow\\python\\ops\\control_flow_ops.py:3632: colocate_with (from tensorflow.python.framework.ops) is deprecated and will be removed in a future version.\n",
      "Instructions for updating:\n",
      "Colocations handled automatically by placer.\n"
     ]
    },
    {
     "name": "stdout",
     "output_type": "stream",
     "text": [
      "INFO:tensorflow:Saver not created because there are no variables in the graph to restore\n"
     ]
    },
    {
     "name": "stderr",
     "output_type": "stream",
     "text": [
      "I0318 23:37:23.200212  5752 saver.py:1483] Saver not created because there are no variables in the graph to restore\n"
     ]
    },
    {
     "name": "stdout",
     "output_type": "stream",
     "text": [
      "_________________________________________________________________\n",
      "Layer (type)                 Output Shape              Param #   \n",
      "=================================================================\n",
      "input_1 (InputLayer)         (None, 1)                 0         \n",
      "_________________________________________________________________\n",
      "elmo_embedding_layer_1 (Elmo (None, 1024)              0         \n",
      "_________________________________________________________________\n",
      "dense_1 (Dense)              (None, 256)               262400    \n",
      "_________________________________________________________________\n",
      "dense_2 (Dense)              (None, 1)                 257       \n",
      "=================================================================\n",
      "Total params: 262,657\n",
      "Trainable params: 262,657\n",
      "Non-trainable params: 0\n",
      "_________________________________________________________________\n"
     ]
    }
   ],
   "source": [
    "from keras.layers import Input, Dense\n",
    "from keras.models import Model\n",
    "from keras.optimizers import Adam\n",
    "# 将整句作为输入\n",
    "inputs = Input(shape=(1,), dtype=tf.string)\n",
    "# 使用ELMO模型获得上下文词向量\n",
    "embedding = ElmoEmbeddingLayer()(inputs)\n",
    "# 使用全连接神经网络完成分类任务\n",
    "dense = Dense(256, activation='relu')(embedding)\n",
    "outputs = Dense(1, activation='sigmoid')(dense)\n",
    "model = Model(inputs=[inputs], outputs=outputs)\n",
    "model.summary()"
   ]
  },
  {
   "cell_type": "code",
   "execution_count": 4,
   "metadata": {},
   "outputs": [
    {
     "data": {
      "text/plain": [
       "<tf.Tensor 'elmo_embedding_layer_1/module_apply_default/truediv:0' shape=(?, 1024) dtype=float32>"
      ]
     },
     "execution_count": 4,
     "metadata": {},
     "output_type": "execute_result"
    }
   ],
   "source": [
    "embedding"
   ]
  },
  {
   "cell_type": "code",
   "execution_count": 5,
   "metadata": {},
   "outputs": [
    {
     "name": "stdout",
     "output_type": "stream",
     "text": [
      "WARNING:tensorflow:From D:\\Anaconda3\\lib\\site-packages\\tensorflow\\python\\ops\\math_ops.py:3066: to_int32 (from tensorflow.python.ops.math_ops) is deprecated and will be removed in a future version.\n",
      "Instructions for updating:\n",
      "Use tf.cast instead.\n"
     ]
    },
    {
     "name": "stderr",
     "output_type": "stream",
     "text": [
      "W0318 23:37:23.486565  5752 deprecation.py:323] From D:\\Anaconda3\\lib\\site-packages\\tensorflow\\python\\ops\\math_ops.py:3066: to_int32 (from tensorflow.python.ops.math_ops) is deprecated and will be removed in a future version.\n",
      "Instructions for updating:\n",
      "Use tf.cast instead.\n"
     ]
    },
    {
     "name": "stdout",
     "output_type": "stream",
     "text": [
      "Train on 1600 samples, validate on 400 samples\n",
      "Epoch 1/3\n",
      " - 69s - loss: 0.1215 - acc: 0.9494 - val_loss: 0.0556 - val_acc: 0.9800\n",
      "Epoch 2/3\n",
      " - 56s - loss: 0.0438 - acc: 0.9850 - val_loss: 0.0407 - val_acc: 0.9900\n",
      "Epoch 3/3\n",
      " - 66s - loss: 0.0235 - acc: 0.9925 - val_loss: 0.0240 - val_acc: 0.9950\n"
     ]
    },
    {
     "data": {
      "text/plain": [
       "<keras.callbacks.History at 0x252f8340dd8>"
      ]
     },
     "execution_count": 5,
     "metadata": {},
     "output_type": "execute_result"
    }
   ],
   "source": [
    "model.compile(loss='binary_crossentropy', \n",
    "              optimizer=Adam(), \n",
    "              metrics=['accuracy'])\n",
    "model.fit(X_train, \n",
    "          y_train, \n",
    "          epochs=3, \n",
    "          validation_split=0.2,\n",
    "          verbose=2,\n",
    "          batch_size=16)"
   ]
  },
  {
   "cell_type": "code",
   "execution_count": 6,
   "metadata": {},
   "outputs": [
    {
     "name": "stdout",
     "output_type": "stream",
     "text": [
      "INFO:tensorflow:Saver not created because there are no variables in the graph to restore\n"
     ]
    },
    {
     "name": "stderr",
     "output_type": "stream",
     "text": [
      "I0318 23:40:42.816405  5752 saver.py:1483] Saver not created because there are no variables in the graph to restore\n"
     ]
    }
   ],
   "source": [
    "import tensorflow_hub as hub\n",
    "elmo = hub.Module(\"https://tfhub.dev/google/elmo/3\", trainable=True)\n",
    "embeddings = elmo(\n",
    "    [\"the cat is on the mat\", \"dogs are in the fog\"],\n",
    "    signature=\"default\",\n",
    "    as_dict=True)"
   ]
  },
  {
   "cell_type": "code",
   "execution_count": 7,
   "metadata": {},
   "outputs": [
    {
     "data": {
      "text/plain": [
       "{'word_emb': <tf.Tensor 'module_1_apply_default/bilm/Reshape_1:0' shape=(2, 6, 512) dtype=float32>,\n",
       " 'lstm_outputs2': <tf.Tensor 'module_1_apply_default/concat_1:0' shape=(2, ?, 1024) dtype=float32>,\n",
       " 'sequence_len': <tf.Tensor 'module_1_apply_default/Sum:0' shape=(2,) dtype=int32>,\n",
       " 'elmo': <tf.Tensor 'module_1_apply_default/aggregation/mul_3:0' shape=(2, 6, 1024) dtype=float32>,\n",
       " 'default': <tf.Tensor 'module_1_apply_default/truediv:0' shape=(2, 1024) dtype=float32>,\n",
       " 'lstm_outputs1': <tf.Tensor 'module_1_apply_default/concat:0' shape=(2, 6, 1024) dtype=float32>}"
      ]
     },
     "execution_count": 7,
     "metadata": {},
     "output_type": "execute_result"
    }
   ],
   "source": [
    "embeddings"
   ]
  },
  {
   "cell_type": "code",
   "execution_count": 8,
   "metadata": {},
   "outputs": [
    {
     "data": {
      "text/plain": [
       "array([6, 5])"
      ]
     },
     "execution_count": 8,
     "metadata": {},
     "output_type": "execute_result"
    }
   ],
   "source": [
    "from keras import backend as K\n",
    "K.get_value(embeddings['sequence_len'])"
   ]
  },
  {
   "cell_type": "code",
   "execution_count": null,
   "metadata": {},
   "outputs": [],
   "source": []
  }
 ],
 "metadata": {
  "kernelspec": {
   "display_name": "Python 3",
   "language": "python",
   "name": "python3"
  },
  "language_info": {
   "codemirror_mode": {
    "name": "ipython",
    "version": 3
   },
   "file_extension": ".py",
   "mimetype": "text/x-python",
   "name": "python",
   "nbconvert_exporter": "python",
   "pygments_lexer": "ipython3",
   "version": "3.6.5"
  }
 },
 "nbformat": 4,
 "nbformat_minor": 2
}
