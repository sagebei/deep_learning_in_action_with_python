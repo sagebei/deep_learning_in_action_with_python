{
 "cells": [
  {
   "cell_type": "code",
   "execution_count": null,
   "id": "f47b4168",
   "metadata": {},
   "outputs": [],
   "source": [
    "from keras.models import Sequential\n",
    "from keras.layers import Dense"
   ]
  },
  {
   "cell_type": "code",
   "execution_count": null,
   "id": "f4051f0b",
   "metadata": {},
   "outputs": [],
   "source": [
    "# 初始化序列模型\n",
    "model = Sequential()\n",
    "# 在序列模型中加入隐藏层并指定输入层单元的个数\n",
    "model.add(Dense(units=3, \n",
    "                input_shape=(2,),\n",
    "                activation='sigmoid', \n",
    "                kernel_initializer='ones',\n",
    "                bias_initializer='zeros')) \n",
    "# 在序列模型中加入输出层\n",
    "model.add(Dense(units=2, \n",
    "                activation='softmax', \n",
    "                kernel_initializer='ones', \n",
    "                bias_initializer='zeros'))"
   ]
  },
  {
   "cell_type": "code",
   "execution_count": null,
   "id": "73deb3fe",
   "metadata": {},
   "outputs": [],
   "source": [
    "model.summary()"
   ]
  },
  {
   "cell_type": "code",
   "execution_count": null,
   "id": "8e53c483",
   "metadata": {},
   "outputs": [],
   "source": []
  },
  {
   "cell_type": "code",
   "execution_count": null,
   "id": "2f76dd68",
   "metadata": {},
   "outputs": [],
   "source": []
  }
 ],
 "metadata": {
  "kernelspec": {
   "display_name": "Python 3",
   "language": "python",
   "name": "python3"
  },
  "language_info": {
   "codemirror_mode": {
    "name": "ipython",
    "version": 3
   },
   "file_extension": ".py",
   "mimetype": "text/x-python",
   "name": "python",
   "nbconvert_exporter": "python",
   "pygments_lexer": "ipython3",
   "version": "3.8.8"
  }
 },
 "nbformat": 4,
 "nbformat_minor": 5
}
