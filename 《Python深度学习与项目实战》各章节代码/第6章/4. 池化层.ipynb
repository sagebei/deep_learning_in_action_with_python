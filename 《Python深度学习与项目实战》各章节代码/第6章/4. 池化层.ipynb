{
 "cells": [
  {
   "cell_type": "code",
   "execution_count": null,
   "id": "0ca268ac",
   "metadata": {},
   "outputs": [],
   "source": [
    "import numpy as np\n",
    "import cv2\n",
    "import matplotlib.pyplot as plt\n",
    "IMG_SIZE = 300\n",
    "img = cv2.imread('cat.jpg', cv2.IMREAD_GRAYSCALE)\n",
    "img = cv2.resize(img, (IMG_SIZE, IMG_SIZE))\n",
    "plt.imshow(img)\n",
    "img = img.reshape(1, 300, 300, 1)"
   ]
  },
  {
   "cell_type": "code",
   "execution_count": null,
   "id": "9919db9f",
   "metadata": {},
   "outputs": [],
   "source": [
    "from keras.models import Model\n",
    "from keras.layers import Input, MaxPooling2D\n",
    "inputs = Input(shape=(300, 300, 1))\n",
    "outputs = MaxPooling2D(pool_size=(2, 2))(inputs)\n",
    "model = Model(inputs, outputs)\n",
    "model.summary()"
   ]
  },
  {
   "cell_type": "code",
   "execution_count": null,
   "id": "3f9a8cbc",
   "metadata": {},
   "outputs": [],
   "source": [
    "output = model.predict(img)\n",
    "plt.imshow(output.reshape(150, 150))"
   ]
  },
  {
   "cell_type": "code",
   "execution_count": null,
   "id": "40f01360",
   "metadata": {},
   "outputs": [],
   "source": [
    "from keras.models import Model\n",
    "from keras.layers import Input, AveragePooling2D\n",
    "inputs = Input(shape=(300, 300, 1))\n",
    "outputs = AveragePooling2D(pool_size=(2, 2))(inputs)\n",
    "model = Model(inputs, outputs)\n",
    "model.summary()"
   ]
  },
  {
   "cell_type": "code",
   "execution_count": null,
   "id": "7199518f",
   "metadata": {},
   "outputs": [],
   "source": [
    "output = model.predict(img)\n",
    "plt.imshow(output.reshape(150, 150))"
   ]
  },
  {
   "cell_type": "code",
   "execution_count": null,
   "id": "291375f1",
   "metadata": {},
   "outputs": [],
   "source": []
  },
  {
   "cell_type": "code",
   "execution_count": null,
   "id": "8d1e4d78",
   "metadata": {},
   "outputs": [],
   "source": []
  }
 ],
 "metadata": {
  "kernelspec": {
   "display_name": "Python 3",
   "language": "python",
   "name": "python3"
  },
  "language_info": {
   "codemirror_mode": {
    "name": "ipython",
    "version": 3
   },
   "file_extension": ".py",
   "mimetype": "text/x-python",
   "name": "python",
   "nbconvert_exporter": "python",
   "pygments_lexer": "ipython3",
   "version": "3.8.8"
  }
 },
 "nbformat": 4,
 "nbformat_minor": 5
}
