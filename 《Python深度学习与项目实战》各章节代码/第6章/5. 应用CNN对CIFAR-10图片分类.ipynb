{
 "cells": [
  {
   "cell_type": "code",
   "execution_count": null,
   "id": "2855851f",
   "metadata": {},
   "outputs": [],
   "source": [
    "from keras.datasets import cifar10\n",
    "from keras.utils import to_categorical\n",
    "(X_train, y_train), (X_test, y_test) = cifar10.load_data()\n",
    "y_train = to_categorical(y_train)\n",
    "y_test = to_categorical(y_test)"
   ]
  },
  {
   "cell_type": "code",
   "execution_count": null,
   "id": "b2eae257",
   "metadata": {},
   "outputs": [],
   "source": [
    "from keras.models import Sequential\n",
    "from keras.layers import Conv2D, MaxPooling2D, Flatten, Dense\n",
    "from keras.optimizers import Adam\n",
    "model = Sequential()\n",
    "# 第一个卷积层\n",
    "model.add(Conv2D(input_shape=(32, 32, 3),\n",
    "                 filters=64, \n",
    "                 kernel_size=(3, 3), \n",
    "                 padding='same',\n",
    "                 strides=1, \n",
    "                 activation='relu'))\n",
    "# 第一个池化层\n",
    "model.add(MaxPooling2D(pool_size=(2, 2)))\n",
    "# 第二个卷积层\n",
    "model.add(Conv2D(filters=128, \n",
    "                 kernel_size=(3, 3), \n",
    "                 padding='same', \n",
    "                 strides=1,\n",
    "                 activation='relu'))\n",
    "# 第二个池化层\n",
    "model.add(MaxPooling2D(pool_size=(2, 2)))\n",
    "# 扁平化\n",
    "model.add(Flatten())\n",
    "# 全连接层\n",
    "model.add(Dense(512, activation='relu'))\n",
    "# 输出层\n",
    "model.add(Dense(10, activation='softmax'))\n",
    "model.summary()"
   ]
  },
  {
   "cell_type": "code",
   "execution_count": null,
   "id": "3b6844a7",
   "metadata": {},
   "outputs": [],
   "source": [
    "model.compile(loss='categorical_crossentropy',\n",
    "              optimizer=Adam(lr=0.0001),\n",
    "              metrics=['accuracy'])\n",
    "from keras.preprocessing.image import ImageDataGenerator\n",
    "generator = ImageDataGenerator(\n",
    "    featurewise_center=True,\n",
    "    featurewise_std_normalization=True,\n",
    "    rotation_range=10,\n",
    "    width_shift_range=0.1,\n",
    "    height_shift_range=0.1,\n",
    "    horizontal_flip=True)\n",
    "generator.fit(X_train)\n",
    "model.fit_generator(\n",
    "    generator.flow(X_train, y_train, batch_size=64),\n",
    "    steps_per_epoch=5000,\n",
    "    epochs=10)"
   ]
  },
  {
   "cell_type": "code",
   "execution_count": null,
   "id": "7b3c3805",
   "metadata": {},
   "outputs": [],
   "source": []
  },
  {
   "cell_type": "code",
   "execution_count": null,
   "id": "55518ee2",
   "metadata": {},
   "outputs": [],
   "source": []
  },
  {
   "cell_type": "code",
   "execution_count": null,
   "id": "1a3f8f42",
   "metadata": {},
   "outputs": [],
   "source": []
  }
 ],
 "metadata": {
  "kernelspec": {
   "display_name": "Python 3",
   "language": "python",
   "name": "python3"
  },
  "language_info": {
   "codemirror_mode": {
    "name": "ipython",
    "version": 3
   },
   "file_extension": ".py",
   "mimetype": "text/x-python",
   "name": "python",
   "nbconvert_exporter": "python",
   "pygments_lexer": "ipython3",
   "version": "3.8.8"
  }
 },
 "nbformat": 4,
 "nbformat_minor": 5
}
