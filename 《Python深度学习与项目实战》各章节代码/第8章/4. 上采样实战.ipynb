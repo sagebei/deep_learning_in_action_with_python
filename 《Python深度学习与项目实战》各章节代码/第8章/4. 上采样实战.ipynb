{
 "cells": [
  {
   "cell_type": "markdown",
   "metadata": {},
   "source": [
    "# 上采样代码实战"
   ]
  },
  {
   "cell_type": "code",
   "execution_count": 1,
   "metadata": {},
   "outputs": [],
   "source": [
    "import numpy as np\n",
    "img = [\n",
    "    [1, 2, 3],\n",
    "    [4, 5, 6],\n",
    "    [7, 8, 9],\n",
    "]\n",
    "img = np.array(img).reshape(1, 3, 3, 1)"
   ]
  },
  {
   "cell_type": "code",
   "execution_count": 2,
   "metadata": {},
   "outputs": [
    {
     "name": "stderr",
     "output_type": "stream",
     "text": [
      "Using TensorFlow backend.\n"
     ]
    }
   ],
   "source": [
    "from keras.models import Model\n",
    "from keras.layers import Input, UpSampling2D\n",
    "inputs = Input((3, 3, 1))\n",
    "outputs = UpSampling2D(size=(2, 2))(inputs)\n",
    "model = Model(inputs, outputs)\n",
    "result = model.predict(img)"
   ]
  },
  {
   "cell_type": "code",
   "execution_count": 3,
   "metadata": {},
   "outputs": [
    {
     "data": {
      "text/plain": [
       "array([[[[1.],\n",
       "         [1.],\n",
       "         [2.],\n",
       "         [2.],\n",
       "         [3.],\n",
       "         [3.]],\n",
       "\n",
       "        [[1.],\n",
       "         [1.],\n",
       "         [2.],\n",
       "         [2.],\n",
       "         [3.],\n",
       "         [3.]],\n",
       "\n",
       "        [[4.],\n",
       "         [4.],\n",
       "         [5.],\n",
       "         [5.],\n",
       "         [6.],\n",
       "         [6.]],\n",
       "\n",
       "        [[4.],\n",
       "         [4.],\n",
       "         [5.],\n",
       "         [5.],\n",
       "         [6.],\n",
       "         [6.]],\n",
       "\n",
       "        [[7.],\n",
       "         [7.],\n",
       "         [8.],\n",
       "         [8.],\n",
       "         [9.],\n",
       "         [9.]],\n",
       "\n",
       "        [[7.],\n",
       "         [7.],\n",
       "         [8.],\n",
       "         [8.],\n",
       "         [9.],\n",
       "         [9.]]]], dtype=float32)"
      ]
     },
     "execution_count": 3,
     "metadata": {},
     "output_type": "execute_result"
    }
   ],
   "source": [
    "result"
   ]
  },
  {
   "cell_type": "code",
   "execution_count": null,
   "metadata": {},
   "outputs": [],
   "source": []
  }
 ],
 "metadata": {
  "kernelspec": {
   "display_name": "Python 3",
   "language": "python",
   "name": "python3"
  },
  "language_info": {
   "codemirror_mode": {
    "name": "ipython",
    "version": 3
   },
   "file_extension": ".py",
   "mimetype": "text/x-python",
   "name": "python",
   "nbconvert_exporter": "python",
   "pygments_lexer": "ipython3",
   "version": "3.6.5"
  }
 },
 "nbformat": 4,
 "nbformat_minor": 2
}
