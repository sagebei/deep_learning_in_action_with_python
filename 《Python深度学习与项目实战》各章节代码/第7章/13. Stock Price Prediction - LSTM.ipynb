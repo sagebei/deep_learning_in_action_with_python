{
 "cells": [
  {
   "cell_type": "code",
   "execution_count": 1,
   "metadata": {},
   "outputs": [],
   "source": [
    "import numpy as np\n",
    "import pandas as pd"
   ]
  },
  {
   "cell_type": "code",
   "execution_count": 2,
   "metadata": {},
   "outputs": [],
   "source": [
    "train_data = pd.read_csv('datasets/Google_Stock_Price_Train.csv')\n",
    "# 将股票的开盘价格作为特征\n",
    "trainset = train_data['Open'].values.reshape(-1, 1)"
   ]
  },
  {
   "cell_type": "code",
   "execution_count": 3,
   "metadata": {},
   "outputs": [],
   "source": [
    "# 将数据集中的样本特征值进行归一化\n",
    "from sklearn.preprocessing import MinMaxScaler\n",
    "sc = MinMaxScaler(feature_range=(0, 1))\n",
    "trainset = sc.fit_transform(trainset)"
   ]
  },
  {
   "cell_type": "code",
   "execution_count": 4,
   "metadata": {},
   "outputs": [],
   "source": [
    "# 获取样本的个数\n",
    "n_trainset = len(trainset)\n",
    "# 设置处理后的每个样本中时间步的个数\n",
    "n_timesteps = 60\n",
    "# X_train与y_train分别存储处理过后的样本与标签值\n",
    "X_train = []\n",
    "y_train = []\n",
    "for i in range(n_timesteps, n_trainset):\n",
    "    X_train.append(trainset[i - n_timesteps: i, 0])\n",
    "    y_train.append(trainset[i, 0])\n",
    "# 将处理过后的训练集数据转化为（样本个数，时间步长，特征数）的格式\n",
    "X_train = np.array(X_train)\n",
    "X_train = X_train.reshape(X_train.shape[0], X_train.shape[1], 1)\n",
    "y_train = np.array(y_train)"
   ]
  },
  {
   "cell_type": "code",
   "execution_count": 5,
   "metadata": {},
   "outputs": [
    {
     "data": {
      "text/plain": [
       "(1198, 60, 1)"
      ]
     },
     "execution_count": 5,
     "metadata": {},
     "output_type": "execute_result"
    }
   ],
   "source": [
    "print(X_train.shape)"
   ]
  },
  {
   "cell_type": "code",
   "execution_count": 12,
   "metadata": {},
   "outputs": [
    {
     "name": "stdout",
     "output_type": "stream",
     "text": [
      "(1198,)\n"
     ]
    }
   ],
   "source": [
    "print(y_train.shape)"
   ]
  },
  {
   "cell_type": "code",
   "execution_count": 6,
   "metadata": {},
   "outputs": [
    {
     "name": "stderr",
     "output_type": "stream",
     "text": [
      "Using TensorFlow backend.\n"
     ]
    },
    {
     "name": "stdout",
     "output_type": "stream",
     "text": [
      "WARNING:tensorflow:From D:\\Anaconda3\\lib\\site-packages\\tensorflow\\python\\framework\\op_def_library.py:263: colocate_with (from tensorflow.python.framework.ops) is deprecated and will be removed in a future version.\n",
      "Instructions for updating:\n",
      "Colocations handled automatically by placer.\n",
      "WARNING:tensorflow:From D:\\Anaconda3\\lib\\site-packages\\keras\\backend\\tensorflow_backend.py:3445: calling dropout (from tensorflow.python.ops.nn_ops) with keep_prob is deprecated and will be removed in a future version.\n",
      "Instructions for updating:\n",
      "Please use `rate` instead of `keep_prob`. Rate should be set to `rate = 1 - keep_prob`.\n"
     ]
    }
   ],
   "source": [
    "from keras.models import Sequential\n",
    "from keras.layers import Dense, LSTM, Dropout\n",
    "from keras.optimizers import Adam\n",
    "model = Sequential()\n",
    "# 第一层LSTM\n",
    "model.add(LSTM(units=64, \n",
    "               return_sequences=True,\n",
    "               input_shape=X_train.shape[1:]))\n",
    "model.add(Dropout(0.2))\n",
    "# 第二层LSTM\n",
    "model.add(LSTM(units=64, \n",
    "               return_sequences=True))\n",
    "model.add(Dropout(0.2))\n",
    "# 第三层LSTM\n",
    "model.add(LSTM(units=128,\n",
    "               return_sequences=False))\n",
    "model.add(Dropout(0.2))\n",
    "# 输出层\n",
    "model.add(Dense(units=1, activation=None))"
   ]
  },
  {
   "cell_type": "code",
   "execution_count": 7,
   "metadata": {},
   "outputs": [
    {
     "name": "stdout",
     "output_type": "stream",
     "text": [
      "WARNING:tensorflow:From D:\\Anaconda3\\lib\\site-packages\\tensorflow\\python\\ops\\math_ops.py:3066: to_int32 (from tensorflow.python.ops.math_ops) is deprecated and will be removed in a future version.\n",
      "Instructions for updating:\n",
      "Use tf.cast instead.\n",
      "Epoch 1/100\n",
      " - 19s - loss: 0.0397 - mean_absolute_error: 0.1325\n",
      "Epoch 2/100\n",
      " - 15s - loss: 0.0037 - mean_absolute_error: 0.0447\n",
      "Epoch 3/100\n",
      " - 14s - loss: 0.0027 - mean_absolute_error: 0.0390\n",
      "Epoch 4/100\n",
      " - 14s - loss: 0.0030 - mean_absolute_error: 0.0402\n",
      "Epoch 5/100\n",
      " - 14s - loss: 0.0033 - mean_absolute_error: 0.0423\n",
      "Epoch 6/100\n",
      " - 15s - loss: 0.0028 - mean_absolute_error: 0.0388\n",
      "Epoch 7/100\n",
      " - 16s - loss: 0.0032 - mean_absolute_error: 0.0416\n",
      "Epoch 8/100\n",
      " - 16s - loss: 0.0027 - mean_absolute_error: 0.0382\n",
      "Epoch 9/100\n",
      " - 14s - loss: 0.0028 - mean_absolute_error: 0.0387\n",
      "Epoch 10/100\n",
      " - 14s - loss: 0.0026 - mean_absolute_error: 0.0374\n",
      "Epoch 11/100\n",
      " - 14s - loss: 0.0024 - mean_absolute_error: 0.0362\n",
      "Epoch 12/100\n",
      " - 15s - loss: 0.0027 - mean_absolute_error: 0.0382\n",
      "Epoch 13/100\n",
      " - 15s - loss: 0.0023 - mean_absolute_error: 0.0347\n",
      "Epoch 14/100\n",
      " - 14s - loss: 0.0022 - mean_absolute_error: 0.0346\n",
      "Epoch 15/100\n",
      " - 14s - loss: 0.0024 - mean_absolute_error: 0.0353\n",
      "Epoch 16/100\n",
      " - 14s - loss: 0.0023 - mean_absolute_error: 0.0347\n",
      "Epoch 17/100\n",
      " - 14s - loss: 0.0022 - mean_absolute_error: 0.0351\n",
      "Epoch 18/100\n",
      " - 15s - loss: 0.0022 - mean_absolute_error: 0.0339\n",
      "Epoch 19/100\n",
      " - 14s - loss: 0.0022 - mean_absolute_error: 0.0336\n",
      "Epoch 20/100\n",
      " - 14s - loss: 0.0026 - mean_absolute_error: 0.0364\n",
      "Epoch 21/100\n",
      " - 14s - loss: 0.0022 - mean_absolute_error: 0.0341\n",
      "Epoch 22/100\n",
      " - 14s - loss: 0.0023 - mean_absolute_error: 0.0345\n",
      "Epoch 23/100\n",
      " - 13s - loss: 0.0020 - mean_absolute_error: 0.0326\n",
      "Epoch 24/100\n",
      " - 14s - loss: 0.0030 - mean_absolute_error: 0.0395\n",
      "Epoch 25/100\n",
      " - 14s - loss: 0.0019 - mean_absolute_error: 0.0322\n",
      "Epoch 26/100\n",
      " - 15s - loss: 0.0020 - mean_absolute_error: 0.0325\n",
      "Epoch 27/100\n",
      " - 13s - loss: 0.0019 - mean_absolute_error: 0.0314\n",
      "Epoch 28/100\n",
      " - 13s - loss: 0.0024 - mean_absolute_error: 0.0354\n",
      "Epoch 29/100\n",
      " - 15s - loss: 0.0019 - mean_absolute_error: 0.0314\n",
      "Epoch 30/100\n",
      " - 14s - loss: 0.0021 - mean_absolute_error: 0.0328\n",
      "Epoch 31/100\n",
      " - 14s - loss: 0.0020 - mean_absolute_error: 0.0322\n",
      "Epoch 32/100\n",
      " - 13s - loss: 0.0019 - mean_absolute_error: 0.0322\n",
      "Epoch 33/100\n",
      " - 13s - loss: 0.0021 - mean_absolute_error: 0.0330\n",
      "Epoch 34/100\n",
      " - 14s - loss: 0.0020 - mean_absolute_error: 0.0323\n",
      "Epoch 35/100\n",
      " - 13s - loss: 0.0019 - mean_absolute_error: 0.0313\n",
      "Epoch 36/100\n",
      " - 13s - loss: 0.0018 - mean_absolute_error: 0.0307\n",
      "Epoch 37/100\n",
      " - 13s - loss: 0.0017 - mean_absolute_error: 0.0290\n",
      "Epoch 38/100\n",
      " - 14s - loss: 0.0016 - mean_absolute_error: 0.0295\n",
      "Epoch 39/100\n",
      " - 14s - loss: 0.0019 - mean_absolute_error: 0.0317\n",
      "Epoch 40/100\n",
      " - 14s - loss: 0.0015 - mean_absolute_error: 0.0284\n",
      "Epoch 41/100\n",
      " - 13s - loss: 0.0018 - mean_absolute_error: 0.0307\n",
      "Epoch 42/100\n",
      " - 14s - loss: 0.0016 - mean_absolute_error: 0.0288\n",
      "Epoch 43/100\n",
      " - 14s - loss: 0.0017 - mean_absolute_error: 0.0301\n",
      "Epoch 44/100\n",
      " - 13s - loss: 0.0016 - mean_absolute_error: 0.0289\n",
      "Epoch 45/100\n",
      " - 14s - loss: 0.0016 - mean_absolute_error: 0.0291\n",
      "Epoch 46/100\n",
      " - 14s - loss: 0.0016 - mean_absolute_error: 0.0289\n",
      "Epoch 47/100\n",
      " - 15s - loss: 0.0016 - mean_absolute_error: 0.0296\n",
      "Epoch 48/100\n",
      " - 13s - loss: 0.0015 - mean_absolute_error: 0.0286\n",
      "Epoch 49/100\n",
      " - 14s - loss: 0.0016 - mean_absolute_error: 0.0292\n",
      "Epoch 50/100\n",
      " - 14s - loss: 0.0019 - mean_absolute_error: 0.0312\n",
      "Epoch 51/100\n",
      " - 14s - loss: 0.0016 - mean_absolute_error: 0.0285\n",
      "Epoch 52/100\n",
      " - 14s - loss: 0.0016 - mean_absolute_error: 0.0291\n",
      "Epoch 53/100\n",
      " - 13s - loss: 0.0017 - mean_absolute_error: 0.0299\n",
      "Epoch 54/100\n",
      " - 14s - loss: 0.0016 - mean_absolute_error: 0.0290\n",
      "Epoch 55/100\n",
      " - 14s - loss: 0.0015 - mean_absolute_error: 0.0288\n",
      "Epoch 56/100\n",
      " - 13s - loss: 0.0016 - mean_absolute_error: 0.0290\n",
      "Epoch 57/100\n",
      " - 14s - loss: 0.0014 - mean_absolute_error: 0.0271\n",
      "Epoch 58/100\n",
      " - 14s - loss: 0.0015 - mean_absolute_error: 0.0283\n",
      "Epoch 59/100\n",
      " - 14s - loss: 0.0015 - mean_absolute_error: 0.0279\n",
      "Epoch 60/100\n",
      " - 14s - loss: 0.0014 - mean_absolute_error: 0.0271\n",
      "Epoch 61/100\n",
      " - 14s - loss: 0.0013 - mean_absolute_error: 0.0259\n",
      "Epoch 62/100\n",
      " - 14s - loss: 0.0013 - mean_absolute_error: 0.0254\n",
      "Epoch 63/100\n",
      " - 13s - loss: 0.0013 - mean_absolute_error: 0.0261\n",
      "Epoch 64/100\n",
      " - 13s - loss: 0.0014 - mean_absolute_error: 0.0265\n",
      "Epoch 65/100\n",
      " - 14s - loss: 0.0013 - mean_absolute_error: 0.0260\n",
      "Epoch 66/100\n",
      " - 14s - loss: 0.0012 - mean_absolute_error: 0.0252\n",
      "Epoch 67/100\n",
      " - 13s - loss: 0.0014 - mean_absolute_error: 0.0277\n",
      "Epoch 68/100\n",
      " - 13s - loss: 0.0013 - mean_absolute_error: 0.0267\n",
      "Epoch 69/100\n",
      " - 13s - loss: 0.0013 - mean_absolute_error: 0.0262\n",
      "Epoch 70/100\n",
      " - 15s - loss: 0.0013 - mean_absolute_error: 0.0257\n",
      "Epoch 71/100\n",
      " - 14s - loss: 0.0012 - mean_absolute_error: 0.0254\n",
      "Epoch 72/100\n",
      " - 14s - loss: 0.0012 - mean_absolute_error: 0.0252\n",
      "Epoch 73/100\n",
      " - 14s - loss: 0.0014 - mean_absolute_error: 0.0267\n",
      "Epoch 74/100\n",
      " - 14s - loss: 0.0012 - mean_absolute_error: 0.0254\n",
      "Epoch 75/100\n",
      " - 14s - loss: 0.0012 - mean_absolute_error: 0.0253\n",
      "Epoch 76/100\n",
      " - 13s - loss: 0.0012 - mean_absolute_error: 0.0250\n",
      "Epoch 77/100\n",
      " - 13s - loss: 0.0011 - mean_absolute_error: 0.0243\n",
      "Epoch 78/100\n",
      " - 13s - loss: 0.0012 - mean_absolute_error: 0.0253\n",
      "Epoch 79/100\n",
      " - 13s - loss: 0.0017 - mean_absolute_error: 0.0300\n",
      "Epoch 80/100\n",
      " - 14s - loss: 0.0011 - mean_absolute_error: 0.0234\n",
      "Epoch 81/100\n",
      " - 13s - loss: 0.0011 - mean_absolute_error: 0.0243\n",
      "Epoch 82/100\n",
      " - 14s - loss: 0.0012 - mean_absolute_error: 0.0252\n",
      "Epoch 83/100\n",
      " - 13s - loss: 0.0011 - mean_absolute_error: 0.0245\n",
      "Epoch 84/100\n",
      " - 14s - loss: 0.0012 - mean_absolute_error: 0.0255\n",
      "Epoch 85/100\n",
      " - 14s - loss: 0.0011 - mean_absolute_error: 0.0245\n",
      "Epoch 86/100\n",
      " - 14s - loss: 0.0011 - mean_absolute_error: 0.0240\n",
      "Epoch 87/100\n",
      " - 13s - loss: 0.0011 - mean_absolute_error: 0.0235\n",
      "Epoch 88/100\n",
      " - 13s - loss: 0.0011 - mean_absolute_error: 0.0248\n",
      "Epoch 89/100\n",
      " - 13s - loss: 0.0011 - mean_absolute_error: 0.0238\n",
      "Epoch 90/100\n",
      " - 14s - loss: 0.0011 - mean_absolute_error: 0.0240\n",
      "Epoch 91/100\n",
      " - 13s - loss: 0.0011 - mean_absolute_error: 0.0232\n",
      "Epoch 92/100\n",
      " - 13s - loss: 9.8067e-04 - mean_absolute_error: 0.0236\n",
      "Epoch 93/100\n",
      " - 14s - loss: 0.0010 - mean_absolute_error: 0.0235\n",
      "Epoch 94/100\n",
      " - 13s - loss: 0.0011 - mean_absolute_error: 0.0234\n",
      "Epoch 95/100\n",
      " - 14s - loss: 0.0012 - mean_absolute_error: 0.0255\n",
      "Epoch 96/100\n",
      " - 14s - loss: 0.0011 - mean_absolute_error: 0.0247\n",
      "Epoch 97/100\n",
      " - 14s - loss: 9.8332e-04 - mean_absolute_error: 0.0230\n",
      "Epoch 98/100\n",
      " - 14s - loss: 0.0011 - mean_absolute_error: 0.0240\n",
      "Epoch 99/100\n",
      " - 15s - loss: 0.0010 - mean_absolute_error: 0.0232\n",
      "Epoch 100/100\n",
      " - 17s - loss: 0.0010 - mean_absolute_error: 0.0238\n"
     ]
    },
    {
     "data": {
      "text/plain": [
       "<keras.callbacks.History at 0x1789d73f630>"
      ]
     },
     "execution_count": 7,
     "metadata": {},
     "output_type": "execute_result"
    }
   ],
   "source": [
    "model.compile(optimizer=Adam(), \n",
    "              loss='mse',\n",
    "              metrics=['mae'])\n",
    "model.fit(X_train, \n",
    "          y_train, \n",
    "          epochs=100, \n",
    "          verbose=2,\n",
    "          batch_size=32)"
   ]
  },
  {
   "cell_type": "code",
   "execution_count": 13,
   "metadata": {},
   "outputs": [
    {
     "data": {
      "image/png": "[encoded data removed]",
      "text/plain": [
       "<Figure size 432x288 with 1 Axes>"
      ]
     },
     "metadata": {},
     "output_type": "display_data"
    }
   ],
   "source": [
    "# 对测试集数据进行与训练集数据一样的处理\n",
    "test_data = pd.read_csv('datasets/Google_Stock_Price_Test.csv')\n",
    "dataset = pd.concat((train_data['Open'], test_data['Open']), axis = 0)\n",
    "testset = dataset[len(dataset)-len(test_data)-n_timesteps:].values.reshape(-1,1)\n",
    "testset = sc.transform(testset)\n",
    "# 将测试集数据转化为（样本个数，时间步长，特征数）的格式\n",
    "X_test = []\n",
    "n_test = len(testset)\n",
    "for i in range(n_timesteps, n_test):\n",
    "    X_test.append(testset[i-n_timesteps: i, 0])\n",
    "X_test = np.array(X_test)\n",
    "X_test = X_test.reshape(X_test.shape[0], X_test.shape[1], 1)\n",
    "# 预测的股票开盘价格\n",
    "predicted_stock_price = model.predict(X_test)\n",
    "predicted_stock_price = sc.inverse_transform(predicted_stock_price)\n",
    "# 实际的股票开盘价格\n",
    "real_stock_price = test_data['Open'].values.reshape(-1, 1)\n",
    "\n",
    "# 可视化预测股票价格走势与实际价格走势\n",
    "import matplotlib.pyplot as plt\n",
    "# 使matplotlib模块能够显示中文字体\n",
    "plt.rcParams['font.sans-serif']=['SimHei']\n",
    "# 使用红线画出实际股票价格\n",
    "plt.plot(real_stock_price, color='red', label='实际股票价格走势')\n",
    "# 使用蓝线画出预测股票价格\n",
    "plt.plot(predicted_stock_price, color='blue', label='预测股票价格走势')\n",
    "plt.title('谷歌公司股票开盘价格走势预测')\n",
    "plt.xlabel('时间')\n",
    "plt.ylabel('股票价格')\n",
    "plt.legend()\n",
    "plt.show()"
   ]
  },
  {
   "cell_type": "code",
   "execution_count": null,
   "metadata": {},
   "outputs": [],
   "source": []
  }
 ],
 "metadata": {
  "kernelspec": {
   "display_name": "Python 3",
   "language": "python",
   "name": "python3"
  },
  "language_info": {
   "codemirror_mode": {
    "name": "ipython",
    "version": 3
   },
   "file_extension": ".py",
   "mimetype": "text/x-python",
   "name": "python",
   "nbconvert_exporter": "python",
   "pygments_lexer": "ipython3",
   "version": "3.6.5"
  }
 },
 "nbformat": 4,
 "nbformat_minor": 2
}
