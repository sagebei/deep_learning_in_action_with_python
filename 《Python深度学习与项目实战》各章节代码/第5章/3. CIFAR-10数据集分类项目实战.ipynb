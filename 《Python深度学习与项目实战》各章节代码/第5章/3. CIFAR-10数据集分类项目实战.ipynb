{
 "cells": [
  {
   "cell_type": "code",
   "execution_count": null,
   "id": "b207e03b",
   "metadata": {},
   "outputs": [],
   "source": [
    "from keras.datasets import cifar10\n",
    "from keras.utils import to_categorical\n",
    "import numpy as np\n",
    "import matplotlib.pyplot as plt\n",
    "\n",
    "(X_train, y_train), (X_test, y_test) = cifar10.load_data()\n",
    "y_train = to_categorical(y_train)\n",
    "y_test = to_categorical(y_test)"
   ]
  },
  {
   "cell_type": "code",
   "execution_count": null,
   "id": "d2378a35",
   "metadata": {},
   "outputs": [],
   "source": [
    "plots(X_train[0: 10], figsize=(8, 3), rows=2)"
   ]
  },
  {
   "cell_type": "code",
   "execution_count": null,
   "id": "f3294cdb",
   "metadata": {},
   "outputs": [],
   "source": [
    "from keras.models import Sequential\n",
    "from keras.layers import Flatten, Dense\n",
    "from keras.layers import Dropout, BatchNormalization\n",
    "from keras.optimizers import RMSprop\n",
    "model = Sequential()\n",
    "# 模型的输入层\n",
    "model.add(Flatten(input_shape=(32, 32, 3)))\n",
    "# 第一个中间层\n",
    "model.add(Dense(256, activation='relu'))\n",
    "model.add(BatchNormalization())\n",
    "model.add(Dropout(rate=0.2))\n",
    "# 第二个中间层\n",
    "model.add(Dense(256, activation='relu'))\n",
    "model.add(BatchNormalization())\n",
    "model.add(Dropout(rate=0.2))\n",
    "# 第三个中间层\n",
    "model.add(Dense(128, activation='relu'))\n",
    "model.add(BatchNormalization())\n",
    "model.add(Dropout(rate=0.2))\n",
    "# 第四个中间层\n",
    "model.add(Dense(128, activation='relu'))\n",
    "model.add(BatchNormalization())\n",
    "model.add(Dropout(rate=0.2))\n",
    "# 模型的输入层\n",
    "model.add(Dense(10, activation='softmax'))\n",
    "model.compile(optimizer=RMSprop(),\n",
    "              loss='categorical_crossentropy',\n",
    "              metrics=['accuracy'])"
   ]
  },
  {
   "cell_type": "code",
   "execution_count": null,
   "id": "700ec9e8",
   "metadata": {},
   "outputs": [],
   "source": [
    "from keras.preprocessing.image import ImageDataGenerator\n",
    "generator = ImageDataGenerator(\n",
    "    featurewise_center=True,\n",
    "    featurewise_std_normalization=True,\n",
    "    rotation_range=20,\n",
    "    width_shift_range=0.2,\n",
    "    height_shift_range=0.2,\n",
    "    horizontal_flip=True)\n",
    "generator.fit(X_train)"
   ]
  },
  {
   "cell_type": "code",
   "execution_count": null,
   "id": "fc4c848a",
   "metadata": {},
   "outputs": [],
   "source": [
    "model.fit_generator(\n",
    "    generator.flow(X_train, y_train, batch_size=64),\n",
    "    steps_per_epoch=1500,\n",
    "    epochs=50)"
   ]
  },
  {
   "cell_type": "code",
   "execution_count": null,
   "id": "d7213b8f",
   "metadata": {},
   "outputs": [],
   "source": [
    "samples = X_test[34: 37]\n",
    "y_predict = model.predict(samples)"
   ]
  },
  {
   "cell_type": "code",
   "execution_count": null,
   "id": "41d6e09f",
   "metadata": {},
   "outputs": [],
   "source": [
    "y_predict_classes = model.predict_classes(samples)"
   ]
  },
  {
   "cell_type": "code",
   "execution_count": null,
   "id": "87c39922",
   "metadata": {},
   "outputs": [],
   "source": [
    "model.save(\"model.h5\")"
   ]
  },
  {
   "cell_type": "code",
   "execution_count": null,
   "id": "007e3199",
   "metadata": {},
   "outputs": [],
   "source": [
    "json_string = model.to_json()\n",
    "model.save_weights(\"model.weights\")"
   ]
  },
  {
   "cell_type": "code",
   "execution_count": null,
   "id": "6bbfb992",
   "metadata": {},
   "outputs": [],
   "source": [
    "from keras.models import load_model\n",
    "model = load_model(\"model.h5\")"
   ]
  },
  {
   "cell_type": "code",
   "execution_count": null,
   "id": "7c3b5993",
   "metadata": {},
   "outputs": [],
   "source": [
    "from keras.models import model_from_json\n",
    "model_architecture = model_from_json(json_string)\n",
    "# 在模型的结构中加入模型参数\n",
    "model_architecture.load_weights(\"model.weights\")"
   ]
  }
 ],
 "metadata": {
  "kernelspec": {
   "display_name": "Python 3",
   "language": "python",
   "name": "python3"
  },
  "language_info": {
   "codemirror_mode": {
    "name": "ipython",
    "version": 3
   },
   "file_extension": ".py",
   "mimetype": "text/x-python",
   "name": "python",
   "nbconvert_exporter": "python",
   "pygments_lexer": "ipython3",
   "version": "3.8.8"
  }
 },
 "nbformat": 4,
 "nbformat_minor": 5
}
