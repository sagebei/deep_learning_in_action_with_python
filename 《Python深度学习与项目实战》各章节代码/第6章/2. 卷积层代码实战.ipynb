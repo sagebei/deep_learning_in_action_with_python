{
 "cells": [
  {
   "cell_type": "markdown",
   "id": "c041571b",
   "metadata": {},
   "source": [
    "### 1. 卷积层卷积操作原理实战"
   ]
  },
  {
   "cell_type": "code",
   "execution_count": null,
   "id": "d7da2b78",
   "metadata": {},
   "outputs": [],
   "source": [
    "import numpy as np\n",
    "img = [\n",
    "    [3, 1, 1, 2, 8, 4],\n",
    "    [1, 0, 7, 3, 2, 6],\n",
    "    [2, 3, 5, 1, 1, 3],\n",
    "    [1, 4, 1, 2, 6, 5],\n",
    "    [3, 2, 1, 3, 7, 2],\n",
    "    [9, 2, 6, 2, 5, 1],\n",
    "]\n",
    "img = np.array(img).reshape(1, 6, 6, 1)\n",
    "kernel = [[1, 0, 3],\n",
    "          [6, 8, -1],\n",
    "          [7, 6, 4]]\n",
    "kernel = [np.array(kernel).reshape(3, 3, 1, 1)]"
   ]
  },
  {
   "cell_type": "code",
   "execution_count": null,
   "id": "1cfcf411",
   "metadata": {},
   "outputs": [],
   "source": [
    "from keras.models import Model\n",
    "from keras.layers import Input, Conv2D\n",
    "inputs = Input(shape=(6, 6, 1))\n",
    "outputs = Conv2D(filters=1, \n",
    "                 kernel_size=(3, 3),\n",
    "                 strides=1,\n",
    "                 use_bias=False, \n",
    "                 weights=kernel)(inputs)\n",
    "model = Model(inputs, outputs)\n",
    "model.summary()"
   ]
  },
  {
   "cell_type": "code",
   "execution_count": null,
   "id": "b2ca03fc",
   "metadata": {},
   "outputs": [],
   "source": [
    "feature_map = model.predict(img)"
   ]
  },
  {
   "cell_type": "markdown",
   "id": "8e6799db",
   "metadata": {},
   "source": [
    "### 2.\t卷积层对图片的作用效果代码实战"
   ]
  },
  {
   "cell_type": "code",
   "execution_count": null,
   "id": "246d83ec",
   "metadata": {},
   "outputs": [],
   "source": [
    "import numpy as np\n",
    "import cv2\n",
    "import matplotlib.pyplot as plt\n",
    "IMG_SIZE = 300\n",
    "# 读取图片并将其转化黑白图片\n",
    "img = cv2.imread('cat.jpg', cv2.IMREAD_GRAYSCALE)\n",
    "print(f\"原始图片尺寸大小为: {img.shape}\")\n",
    "# 改变图片尺寸\n",
    "img = cv2.resize(img, (IMG_SIZE, IMG_SIZE))\n",
    "plt.imshow(img)\n",
    "print(f\"现图片尺寸大小为: {img.shape}\")\n",
    "img = img.reshape(1, 300, 300, 1)"
   ]
  },
  {
   "cell_type": "code",
   "execution_count": null,
   "id": "5dc095c3",
   "metadata": {},
   "outputs": [],
   "source": [
    "kernel_edge= [[-1,-2,-1],\n",
    "               [0, 0, 0],\n",
    "               [1, 2, 1]]\n",
    "kernel_edge = [np.array(kernel_edge).reshape(3, 3, 1, 1)]"
   ]
  },
  {
   "cell_type": "code",
   "execution_count": null,
   "id": "4f021887",
   "metadata": {},
   "outputs": [],
   "source": [
    "from keras.models import Model\n",
    "from keras.layers import Input, Conv2D\n",
    "inputs = Input(shape=(300, 300, 1))\n",
    "outputs = Conv2D(filters=1, \n",
    "                 kernel_size=(3, 3), \n",
    "                 strides=1,\n",
    "                 use_bias=False, \n",
    "                 weights=kernel_edge)(inputs)\n",
    "model = Model(inputs, outputs)"
   ]
  },
  {
   "cell_type": "code",
   "execution_count": null,
   "id": "08fd2855",
   "metadata": {},
   "outputs": [],
   "source": [
    "output = model.predict(img)\n",
    "plt.imshow(output.reshape(298, 298))"
   ]
  },
  {
   "cell_type": "code",
   "execution_count": null,
   "id": "eb05877e",
   "metadata": {},
   "outputs": [],
   "source": [
    "kernel_sharpen = np.array([[ 0, -0.5,  0],\n",
    "                           [-0.5, 3, -0.5],\n",
    "                           [ 0, -0.5,  0]])\n",
    "kernel_sharpen = [np.array(kernel_sharpen).reshape(3, 3, 1 , 1)]"
   ]
  },
  {
   "cell_type": "code",
   "execution_count": null,
   "id": "4cb1c219",
   "metadata": {},
   "outputs": [],
   "source": [
    "model.get_layer(\"conv2d_1\").set_weights(kernel_sharpen)\n",
    "output = model.predict(img)\n",
    "plt.imshow(output.reshape(298, 298))"
   ]
  },
  {
   "cell_type": "code",
   "execution_count": null,
   "id": "cc3e3c4e",
   "metadata": {},
   "outputs": [],
   "source": []
  },
  {
   "cell_type": "code",
   "execution_count": null,
   "id": "a960c926",
   "metadata": {},
   "outputs": [],
   "source": []
  },
  {
   "cell_type": "code",
   "execution_count": null,
   "id": "e4eaf3dd",
   "metadata": {},
   "outputs": [],
   "source": []
  },
  {
   "cell_type": "code",
   "execution_count": null,
   "id": "f095142f",
   "metadata": {},
   "outputs": [],
   "source": []
  }
 ],
 "metadata": {
  "kernelspec": {
   "display_name": "Python 3",
   "language": "python",
   "name": "python3"
  },
  "language_info": {
   "codemirror_mode": {
    "name": "ipython",
    "version": 3
   },
   "file_extension": ".py",
   "mimetype": "text/x-python",
   "name": "python",
   "nbconvert_exporter": "python",
   "pygments_lexer": "ipython3",
   "version": "3.8.8"
  }
 },
 "nbformat": 4,
 "nbformat_minor": 5
}
