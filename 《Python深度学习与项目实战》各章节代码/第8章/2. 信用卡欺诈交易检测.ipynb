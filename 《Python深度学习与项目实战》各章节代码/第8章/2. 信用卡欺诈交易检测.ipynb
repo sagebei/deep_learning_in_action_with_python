{
 "cells": [
  {
   "cell_type": "code",
   "execution_count": null,
   "metadata": {},
   "outputs": [],
   "source": [
    "import pandas as pd\n",
    "path = \"datasets/creditcard.csv\"\n",
    "df = pd.read_csv(path)"
   ]
  },
  {
   "cell_type": "code",
   "execution_count": null,
   "metadata": {},
   "outputs": [],
   "source": [
    "# 将交易金额与交易时间数据正则化\n",
    "df[\"Amount\"] = (df[\"Amount\"] - df[\"Amount\"].mean()) / df[\"Amount\"].std()\n",
    "df[\"Time\"] = (df[\"Time\"] - df[\"Time\"].mean()) / df[\"Time\"].std()"
   ]
  },
  {
   "cell_type": "code",
   "execution_count": null,
   "metadata": {},
   "outputs": [],
   "source": [
    "# 将正常交易数据与异常交易数据分开\n",
    "df_normal = df[df[\"Class\"] == 0]\n",
    "df_fraud = df[df[\"Class\"] == 1]\n",
    "n_fraud = df_fraud.shape[0]"
   ]
  },
  {
   "cell_type": "code",
   "execution_count": null,
   "metadata": {},
   "outputs": [],
   "source": [
    "# 获取训练集数据\n",
    "df_train = df_normal[0: -n_fraud].drop([\"Class\"], axis=1)\n",
    "X_train = df_train.values\n",
    "y_train = None"
   ]
  },
  {
   "cell_type": "code",
   "execution_count": null,
   "metadata": {},
   "outputs": [],
   "source": [
    "# 获取测试集数据\n",
    "df_test = df_normal[-n_fraud:]\n",
    "df_test = df_test.append(df_fraud)\n",
    "df_test_labels = df_test[\"Class\"]\n",
    "df_test = df_test.drop([\"Class\"], axis=1)\n",
    "X_test = df_test.values\n",
    "y_test = df_test_labels.values"
   ]
  },
  {
   "cell_type": "code",
   "execution_count": null,
   "metadata": {},
   "outputs": [],
   "source": [
    "# 构建自编码模型\n",
    "from keras.layers import Input, Dense\n",
    "from keras.models import Model\n",
    "from keras.optimizers import Adam\n",
    "n_feature = X_train.shape[1]\n",
    "# 构建编码器\n",
    "inputs = Input(shape=(n_feature,))\n",
    "x = Dense(units=20, \n",
    "          activation='tanh')(inputs)\n",
    "encoding = Dense(units=15, \n",
    "                activation='tanh')(x)\n",
    "# 构建解码器\n",
    "x = Dense(units=20, \n",
    "          activation='tanh')(encoding)\n",
    "outputs = Dense(n_feature, activation='tanh')(x)\n",
    "# 构建自编码模型\n",
    "model = Model(inputs, outputs)\n",
    "model.summary()"
   ]
  },
  {
   "cell_type": "code",
   "execution_count": null,
   "metadata": {},
   "outputs": [],
   "source": [
    "model.compile(optimizer=Adam(),\n",
    "              loss=\"mse\",\n",
    "              metrics=None)\n",
    "model.fit(X_train, \n",
    "          X_train, \n",
    "          epochs=10, \n",
    "          batch_size=32, \n",
    "          validation_split=0.2, \n",
    "          verbose=2,\n",
    "          shuffle=True)"
   ]
  },
  {
   "cell_type": "code",
   "execution_count": null,
   "metadata": {},
   "outputs": [],
   "source": [
    "import numpy as np\n",
    "X_predict = model.predict(X_test)\n",
    "reconstruction_error = np.linalg.norm(X_test - X_predict, axis=1)"
   ]
  },
  {
   "cell_type": "code",
   "execution_count": null,
   "metadata": {},
   "outputs": [],
   "source": [
    "import matplotlib.pyplot as plt\n",
    "plt.rcParams['font.sans-serif']=['SimHei']\n",
    "plt.rcParams.update({\"font.size\":30})\n",
    "# 将模型在测试集交易数据上的重构误差与其标签值对应\n",
    "df_error = pd.DataFrame({\"Reconstruction_Error\": reconstruction_error,\n",
    "                         \"True_Class\": y_test})\n",
    "# 将正常交易数据与异常交易数据进行分组\n",
    "groups = df_error.groupby('True_Class')\n",
    "fig, ax = plt.subplots(figsize=(20, 10))\n",
    "for name, group in groups:\n",
    "    ax.plot(group.index, \n",
    "            group.Reconstruction_Error, \n",
    "            marker='o', \n",
    "            ms=8, \n",
    "            linestyle='',\n",
    "            label=\"异常交易数据\" if name == 1 else \"正常交易数据\")\n",
    "# 设置区别正常交易与异常交易数据重构误差的阈值\n",
    "threshold = 4\n",
    "# 在图中画出阈值\n",
    "ax.hlines(threshold, ax.get_xlim()[0], \n",
    "          ax.get_xlim()[1], \n",
    "          colors='g', \n",
    "          zorder=100, \n",
    "          label='阈值')\n",
    "ax.legend()\n",
    "plt.title(\"使用自编码模型识别异常交易\")\n",
    "plt.ylabel(\"重构误差\")\n",
    "plt.xlabel(\"测试集数据\")\n",
    "plt.show()"
   ]
  },
  {
   "cell_type": "code",
   "execution_count": null,
   "metadata": {},
   "outputs": [],
   "source": [
    "fig.savefig(\"fraud_detection.png\")"
   ]
  },
  {
   "cell_type": "code",
   "execution_count": null,
   "metadata": {},
   "outputs": [],
   "source": []
  },
  {
   "cell_type": "code",
   "execution_count": null,
   "metadata": {},
   "outputs": [],
   "source": []
  },
  {
   "cell_type": "code",
   "execution_count": null,
   "metadata": {},
   "outputs": [],
   "source": []
  }
 ],
 "metadata": {
  "kernelspec": {
   "display_name": "Python 3",
   "language": "python",
   "name": "python3"
  },
  "language_info": {
   "codemirror_mode": {
    "name": "ipython",
    "version": 3
   },
   "file_extension": ".py",
   "mimetype": "text/x-python",
   "name": "python",
   "nbconvert_exporter": "python",
   "pygments_lexer": "ipython3",
   "version": "3.8.8"
  }
 },
 "nbformat": 4,
 "nbformat_minor": 2
}
