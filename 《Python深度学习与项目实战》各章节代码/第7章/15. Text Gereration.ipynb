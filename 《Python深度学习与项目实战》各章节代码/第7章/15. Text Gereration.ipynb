{
 "cells": [
  {
   "cell_type": "code",
   "execution_count": 1,
   "metadata": {
    "colab": {
     "base_uri": "https://localhost:8080/",
     "height": 55
    },
    "colab_type": "code",
    "id": "n7QUCUjktIrR",
    "outputId": "1119a255-0b72-4d90-edaa-ac5bee74424d"
   },
   "outputs": [],
   "source": [
    "with open(\"datasets\\libai.txt\", 'r', encoding='utf-8') as file:\n",
    "    content = file.read()"
   ]
  },
  {
   "cell_type": "code",
   "execution_count": 2,
   "metadata": {},
   "outputs": [],
   "source": [
    "chars = list(set(content))\n",
    "n_chars = len(chars)\n",
    "# 字符与对应的数字标记\n",
    "char_indices = dict((c, i) for i, c in enumerate(chars))\n",
    "# 数字标记与对应的字符\n",
    "indices_char = dict((i, c) for i, c in enumerate(chars))"
   ]
  },
  {
   "cell_type": "code",
   "execution_count": 3,
   "metadata": {
    "colab": {},
    "colab_type": "code",
    "id": "6ZCbE7mjtIr6"
   },
   "outputs": [],
   "source": [
    "maxlen = 20\n",
    "step = 3\n",
    "sentences = []\n",
    "next_chars = []\n",
    "for i in range(0, len(content) - maxlen, step):\n",
    "    sentences.append(content[i: i + maxlen])\n",
    "    next_chars.append(content[i + maxlen])"
   ]
  },
  {
   "cell_type": "code",
   "execution_count": 4,
   "metadata": {
    "colab": {},
    "colab_type": "code",
    "id": "Ktjr4-DmtIsC"
   },
   "outputs": [],
   "source": [
    "# 将所有句子中的字转化为独热编码的形式\n",
    "import numpy as np\n",
    "X_train = np.zeros((len(sentences), maxlen, len(chars)), dtype=np.bool)\n",
    "y_train = np.zeros((len(sentences), len(chars)), dtype=np.bool)\n",
    "for i, sentence in enumerate(sentences):\n",
    "    for j, char in enumerate(sentence):\n",
    "        X_train[i, j, char_indices[char]] = 1\n",
    "    y_train[i, char_indices[next_chars[i]]] = 1"
   ]
  },
  {
   "cell_type": "code",
   "execution_count": 5,
   "metadata": {
    "colab": {
     "base_uri": "https://localhost:8080/",
     "height": 285
    },
    "colab_type": "code",
    "id": "VpuamcPXtIsM",
    "outputId": "74eb485a-f34b-4b60-9839-8ef31055d370"
   },
   "outputs": [
    {
     "name": "stderr",
     "output_type": "stream",
     "text": [
      "Using TensorFlow backend.\n"
     ]
    },
    {
     "name": "stdout",
     "output_type": "stream",
     "text": [
      "WARNING:tensorflow:From D:\\Anaconda3\\lib\\site-packages\\tensorflow\\python\\framework\\op_def_library.py:263: colocate_with (from tensorflow.python.framework.ops) is deprecated and will be removed in a future version.\n",
      "Instructions for updating:\n",
      "Colocations handled automatically by placer.\n",
      "_________________________________________________________________\n",
      "Layer (type)                 Output Shape              Param #   \n",
      "=================================================================\n",
      "lstm_1 (LSTM)                (None, 128)               1826816   \n",
      "_________________________________________________________________\n",
      "dense_1 (Dense)              (None, 3439)              443631    \n",
      "=================================================================\n",
      "Total params: 2,270,447\n",
      "Trainable params: 2,270,447\n",
      "Non-trainable params: 0\n",
      "_________________________________________________________________\n"
     ]
    }
   ],
   "source": [
    "from keras.models import Sequential\n",
    "from keras.layers import LSTM, Dense\n",
    "from keras.optimizers import RMSprop\n",
    "model = Sequential()\n",
    "model.add(LSTM(units=128, \n",
    "               input_shape=(maxlen, n_chars)))\n",
    "model.add(Dense(units=n_chars, \n",
    "                activation='softmax'))\n",
    "model.summary()"
   ]
  },
  {
   "cell_type": "code",
   "execution_count": 6,
   "metadata": {
    "colab": {
     "base_uri": "https://localhost:8080/",
     "height": 1000
    },
    "colab_type": "code",
    "id": "zw9vplRAtIsX",
    "outputId": "ad13981a-2ff2-4efd-98e0-032877cf0863"
   },
   "outputs": [
    {
     "name": "stdout",
     "output_type": "stream",
     "text": [
      "WARNING:tensorflow:From D:\\Anaconda3\\lib\\site-packages\\tensorflow\\python\\ops\\math_ops.py:3066: to_int32 (from tensorflow.python.ops.math_ops) is deprecated and will be removed in a future version.\n",
      "Instructions for updating:\n",
      "Use tf.cast instead.\n",
      "Epoch 1/50\n",
      "30727/30727 [==============================] - 48s 2ms/step - loss: 6.5990\n",
      "Epoch 2/50\n",
      "30727/30727 [==============================] - 47s 2ms/step - loss: 5.9755\n",
      "Epoch 3/50\n",
      "30727/30727 [==============================] - 43s 1ms/step - loss: 5.6476\n",
      "Epoch 4/50\n",
      "30727/30727 [==============================] - 42s 1ms/step - loss: 5.2171\n",
      "Epoch 5/50\n",
      "30727/30727 [==============================] - 40s 1ms/step - loss: 4.7536\n",
      "Epoch 6/50\n",
      "30727/30727 [==============================] - 41s 1ms/step - loss: 4.3145\n",
      "Epoch 7/50\n",
      "30727/30727 [==============================] - 40s 1ms/step - loss: 3.9023\n",
      "Epoch 8/50\n",
      "30727/30727 [==============================] - 39s 1ms/step - loss: 3.5086\n",
      "Epoch 9/50\n",
      "30727/30727 [==============================] - 39s 1ms/step - loss: 3.1767\n",
      "Epoch 10/50\n",
      "30727/30727 [==============================] - 40s 1ms/step - loss: 2.8912\n",
      "Epoch 11/50\n",
      "30727/30727 [==============================] - 39s 1ms/step - loss: 2.6368\n",
      "Epoch 12/50\n",
      "30727/30727 [==============================] - 39s 1ms/step - loss: 2.4085\n",
      "Epoch 13/50\n",
      "30727/30727 [==============================] - 40s 1ms/step - loss: 2.2354\n",
      "Epoch 14/50\n",
      "30727/30727 [==============================] - 40s 1ms/step - loss: 2.0980\n",
      "Epoch 15/50\n",
      "30727/30727 [==============================] - 39s 1ms/step - loss: 1.9660\n",
      "Epoch 16/50\n",
      "30727/30727 [==============================] - 39s 1ms/step - loss: 1.8861\n",
      "Epoch 17/50\n",
      "30727/30727 [==============================] - 41s 1ms/step - loss: 1.8118\n",
      "Epoch 18/50\n",
      "30727/30727 [==============================] - 41s 1ms/step - loss: 1.7634\n",
      "Epoch 19/50\n",
      "30727/30727 [==============================] - 42s 1ms/step - loss: 1.7100\n",
      "Epoch 20/50\n",
      "30727/30727 [==============================] - 40s 1ms/step - loss: 1.6828\n",
      "Epoch 21/50\n",
      "30727/30727 [==============================] - 39s 1ms/step - loss: 1.6448\n",
      "Epoch 22/50\n",
      "30727/30727 [==============================] - 39s 1ms/step - loss: 1.6124\n",
      "Epoch 23/50\n",
      "30727/30727 [==============================] - 41s 1ms/step - loss: 1.5796\n",
      "Epoch 24/50\n",
      "30727/30727 [==============================] - 40s 1ms/step - loss: 1.5537\n",
      "Epoch 25/50\n",
      "30727/30727 [==============================] - 40s 1ms/step - loss: 1.5286\n",
      "Epoch 26/50\n",
      "30727/30727 [==============================] - 40s 1ms/step - loss: 1.5320: 4s - loss: 1.50 \n",
      "Epoch 27/50\n",
      "30727/30727 [==============================] - 40s 1ms/step - loss: 1.5226\n",
      "Epoch 28/50\n",
      "30727/30727 [==============================] - 40s 1ms/step - loss: 1.5298\n",
      "Epoch 29/50\n",
      "30727/30727 [==============================] - 41s 1ms/step - loss: 1.5007\n",
      "Epoch 30/50\n",
      "30727/30727 [==============================] - 41s 1ms/step - loss: 1.4888\n",
      "Epoch 31/50\n",
      "30727/30727 [==============================] - 40s 1ms/step - loss: 1.4675\n",
      "Epoch 32/50\n",
      "30727/30727 [==============================] - 41s 1ms/step - loss: 1.4669\n",
      "Epoch 33/50\n",
      "30727/30727 [==============================] - 41s 1ms/step - loss: 1.4674\n",
      "Epoch 34/50\n",
      "30727/30727 [==============================] - 41s 1ms/step - loss: 1.4396\n",
      "Epoch 35/50\n",
      "30727/30727 [==============================] - 42s 1ms/step - loss: 1.4457\n",
      "Epoch 36/50\n",
      "30727/30727 [==============================] - 41s 1ms/step - loss: 1.4356\n",
      "Epoch 37/50\n",
      "30727/30727 [==============================] - 41s 1ms/step - loss: 1.4134\n",
      "Epoch 38/50\n",
      "30727/30727 [==============================] - 41s 1ms/step - loss: 1.4117\n",
      "Epoch 39/50\n",
      "30727/30727 [==============================] - 41s 1ms/step - loss: 1.4049\n",
      "Epoch 40/50\n",
      "30727/30727 [==============================] - 41s 1ms/step - loss: 1.3991\n",
      "Epoch 41/50\n",
      "30727/30727 [==============================] - 40s 1ms/step - loss: 1.3983\n",
      "Epoch 42/50\n",
      "30727/30727 [==============================] - 40s 1ms/step - loss: 1.3935\n",
      "Epoch 43/50\n",
      "30727/30727 [==============================] - 41s 1ms/step - loss: 1.3672\n",
      "Epoch 44/50\n",
      "30727/30727 [==============================] - 41s 1ms/step - loss: 1.3590\n",
      "Epoch 45/50\n",
      "30727/30727 [==============================] - 40s 1ms/step - loss: 1.3518\n",
      "Epoch 46/50\n",
      "30727/30727 [==============================] - 41s 1ms/step - loss: 1.3558\n",
      "Epoch 47/50\n",
      "30727/30727 [==============================] - 41s 1ms/step - loss: 1.3560\n",
      "Epoch 48/50\n",
      "30727/30727 [==============================] - 41s 1ms/step - loss: 1.3345\n",
      "Epoch 49/50\n",
      "30727/30727 [==============================] - 40s 1ms/step - loss: 1.3458\n",
      "Epoch 50/50\n",
      "30727/30727 [==============================] - 40s 1ms/step - loss: 1.3407\n"
     ]
    },
    {
     "data": {
      "text/plain": [
       "<keras.callbacks.History at 0x1f74adf5e80>"
      ]
     },
     "execution_count": 6,
     "metadata": {},
     "output_type": "execute_result"
    }
   ],
   "source": [
    "model.compile(loss='categorical_crossentropy', \n",
    "              optimizer=RMSprop(lr=0.01),\n",
    "              metrics=None)\n",
    "model.fit(X_train, \n",
    "          y_train,\n",
    "          batch_size=128,\n",
    "          epochs=50)"
   ]
  },
  {
   "cell_type": "code",
   "execution_count": 7,
   "metadata": {
    "colab": {},
    "colab_type": "code",
    "id": "_WYnkzjVtIsl"
   },
   "outputs": [],
   "source": [
    "def sample(preds, temperature=1.0):\n",
    "    preds = np.asarray(preds).astype('float64')\n",
    "    preds = np.log(preds) / temperature\n",
    "    exp_preds = np.exp(preds)\n",
    "    preds = exp_preds / np.sum(exp_preds)\n",
    "    probas = np.random.multinomial(n=1, pvals=preds, size=1)\n",
    "    return np.argmax(probas)"
   ]
  },
  {
   "cell_type": "code",
   "execution_count": 12,
   "metadata": {
    "colab": {},
    "colab_type": "code",
    "id": "fwoJPrpatIss"
   },
   "outputs": [],
   "source": [
    "import random\n",
    "def generate_text(length, diversity):\n",
    "    # 随机选择一个句子\n",
    "    start_index = random.randint(0, len(content) - maxlen - 1)\n",
    "    sentence = content[start_index: start_index + maxlen]\n",
    "    # 用于存储生成的字\n",
    "    generated = ''\n",
    "    for i in range(length):\n",
    "        x_pred = np.zeros((1, maxlen, len(chars)))\n",
    "        # 将随机生成的句子中的字转化为独热编码的形式\n",
    "        for i, char in enumerate(sentence):\n",
    "            x_pred[0, i, char_indices[char]] = 1\n",
    "        # 根据随机选择的句子生成生成下一个字\n",
    "        preds = model.predict(x_pred, verbose=0)[0]\n",
    "        # 获得生成的字的数字标记\n",
    "        next_index = sample(preds, diversity)\n",
    "        # 根据数据数字标记获得对应字符\n",
    "        next_char = indices_char[next_index]\n",
    "        # 存储生成的字\n",
    "        generated += next_char\n",
    "        # 将生成的字追加随机选择的句子中\n",
    "        sentence = sentence[1:] + next_char\n",
    "    return generated"
   ]
  },
  {
   "cell_type": "code",
   "execution_count": 13,
   "metadata": {
    "colab": {
     "base_uri": "https://localhost:8080/",
     "height": 35
    },
    "colab_type": "code",
    "id": "Vf3YtgKLtIs1",
    "outputId": "ad5fa03e-dc40-4590-e899-fd3499974e13"
   },
   "outputs": [
    {
     "name": "stdout",
     "output_type": "stream",
     "text": [
      "君不仙寒上，语随白萝长。传君玉云难，归风未江月。\n"
     ]
    }
   ],
   "source": [
    "print(generate_text(24, 0.2))"
   ]
  },
  {
   "cell_type": "code",
   "execution_count": null,
   "metadata": {
    "colab": {},
    "colab_type": "code",
    "id": "TzFixW0ntIs5"
   },
   "outputs": [],
   "source": []
  }
 ],
 "metadata": {
  "accelerator": "GPU",
  "colab": {
   "collapsed_sections": [],
   "name": "Text Gereration.ipynb",
   "provenance": []
  },
  "kernelspec": {
   "display_name": "Python 3",
   "language": "python",
   "name": "python3"
  },
  "language_info": {
   "codemirror_mode": {
    "name": "ipython",
    "version": 3
   },
   "file_extension": ".py",
   "mimetype": "text/x-python",
   "name": "python",
   "nbconvert_exporter": "python",
   "pygments_lexer": "ipython3",
   "version": "3.6.5"
  }
 },
 "nbformat": 4,
 "nbformat_minor": 1
}
