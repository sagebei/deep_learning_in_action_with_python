{
 "cells": [
  {
   "cell_type": "markdown",
   "id": "65d248a9",
   "metadata": {},
   "source": [
    "### 1.\t波士顿房价数据集简介"
   ]
  },
  {
   "cell_type": "code",
   "execution_count": null,
   "id": "8ef062fb",
   "metadata": {},
   "outputs": [],
   "source": [
    "from sklearn.datasets import load_boston\n",
    "dataset = load_boston()\n",
    "X = dataset.data\n",
    "y = dataset.target"
   ]
  },
  {
   "cell_type": "markdown",
   "id": "f1eee703",
   "metadata": {},
   "source": [
    "### 2. 数据集特征值的标准化"
   ]
  },
  {
   "cell_type": "code",
   "execution_count": null,
   "id": "97bc16a3",
   "metadata": {},
   "outputs": [],
   "source": [
    "# 求取数据集中所有样本特征值的均值\n",
    "mean = X.mean(axis=0)\n",
    "# 求取数据集中所有样本特征值的方差\n",
    "std = X.std(axis=0)\n",
    "# 对数据集进行标准化\n",
    "X = (X - mean) / std"
   ]
  },
  {
   "cell_type": "markdown",
   "id": "3b7c37e2",
   "metadata": {},
   "source": [
    "### 3. 线性回归模型的构建与训练"
   ]
  },
  {
   "cell_type": "code",
   "execution_count": null,
   "id": "b9d5d9bf",
   "metadata": {},
   "outputs": [],
   "source": [
    "from sklearn.model_selection import train_test_split\n",
    "X_train, X_test, y_train, y_test = train_test_split(X, y, test_size=0.2)\n",
    "# 训练集中样本的个数\n",
    "n_train = X_train.shape[0]\n",
    "# 训练集中样本特征值的个数\n",
    "n_features = X_train.shape[1]"
   ]
  },
  {
   "cell_type": "code",
   "execution_count": null,
   "id": "73142af5",
   "metadata": {},
   "outputs": [],
   "source": [
    "import numpy as np\n",
    "# 模型参数中的权重\n",
    "w = np.random.rand(n_features)\n",
    "# 模型参数中的偏移项\n",
    "b = 1.1\n",
    "# 指定学习率的值\n",
    "lr = 0.001\n",
    "# 指定模型迭代训练的次数\n",
    "epochs = 3000\n",
    "# 定义线性回归模型\n",
    "def model(x):\n",
    "    y_hat = w.dot(x) + b\n",
    "    return y_hat"
   ]
  },
  {
   "cell_type": "code",
   "execution_count": null,
   "id": "4870ff81",
   "metadata": {},
   "outputs": [],
   "source": [
    "# 指定正则项中lambda的值\n",
    "reg = 0.5\n",
    "# 使用梯度下降算法对模型进行迭代训练\n",
    "for epoch in range(epochs):\n",
    "    sum_w = 0.0\n",
    "    sum_b = 0.0\n",
    "    for i in range(n_train):\n",
    "        xi = X_train[i]\n",
    "        yi = y_train[i]\n",
    "        yi_hat = model(xi)\n",
    "        sum_w += (yi_hat - yi) * xi\n",
    "        sum_b += (yi_hat - yi)\n",
    "    grad_w = (2.0 / n_train) * sum_w + (2.0 * reg * w)\n",
    "    grad_b = (2.0 / n_train) * sum_b\n",
    "    w = w - lr * grad_w\n",
    "    b = b - lr * grad_b"
   ]
  },
  {
   "cell_type": "code",
   "execution_count": null,
   "id": "187ac05a",
   "metadata": {},
   "outputs": [],
   "source": [
    "train_loss = loss_funtion(X_train, y_train)\n",
    "test_loss = loss_funtion(X_test, y_test)"
   ]
  },
  {
   "cell_type": "code",
   "execution_count": null,
   "id": "6b3d44e8",
   "metadata": {},
   "outputs": [],
   "source": []
  }
 ],
 "metadata": {
  "kernelspec": {
   "display_name": "Python 3",
   "language": "python",
   "name": "python3"
  },
  "language_info": {
   "codemirror_mode": {
    "name": "ipython",
    "version": 3
   },
   "file_extension": ".py",
   "mimetype": "text/x-python",
   "name": "python",
   "nbconvert_exporter": "python",
   "pygments_lexer": "ipython3",
   "version": "3.8.8"
  }
 },
 "nbformat": 4,
 "nbformat_minor": 5
}
