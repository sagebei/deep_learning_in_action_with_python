{
 "cells": [
  {
   "cell_type": "code",
   "execution_count": 1,
   "metadata": {},
   "outputs": [],
   "source": [
    "import numpy as np\n",
    "X = np.load('datasets/delivery_review.npy')\n",
    "y = np.load('datasets/delivery_label.npy')"
   ]
  },
  {
   "cell_type": "code",
   "execution_count": 2,
   "metadata": {},
   "outputs": [],
   "source": [
    "with open('datasets/chinese_stop_words.txt', encoding=\"utf-8\") as text:\n",
    "    stopwords = [line.strip() for line in  text]"
   ]
  },
  {
   "cell_type": "code",
   "execution_count": 3,
   "metadata": {},
   "outputs": [
    {
     "name": "stderr",
     "output_type": "stream",
     "text": [
      "Building prefix dict from the default dictionary ...\n",
      "Loading model from cache C:\\Users\\BEIZHO~1\\AppData\\Local\\Temp\\jieba.cache\n",
      "Loading model cost 0.883 seconds.\n",
      "Prefix dict has been built succesfully.\n"
     ]
    }
   ],
   "source": [
    "import jieba\n",
    "X_new = []\n",
    "for i, review in enumerate(X):\n",
    "    review = list(jieba.cut(review))\n",
    "    result = []\n",
    "    for word in review:\n",
    "        if word not in stopwords:\n",
    "            result.append(word)\n",
    "    X_new.append(\" \".join(result))\n",
    "X_new = np.array(X_new)"
   ]
  },
  {
   "cell_type": "code",
   "execution_count": 4,
   "metadata": {},
   "outputs": [
    {
     "data": {
      "text/plain": [
       "'分量 特色 下回 不吃'"
      ]
     },
     "execution_count": 4,
     "metadata": {},
     "output_type": "execute_result"
    }
   ],
   "source": [
    "X_new[1]"
   ]
  },
  {
   "cell_type": "code",
   "execution_count": 5,
   "metadata": {},
   "outputs": [],
   "source": [
    "from sklearn.model_selection import train_test_split\n",
    "X_train, X_test, y_train, y_test = train_test_split(X_new, y, test_size=0.2, shuffle=True)"
   ]
  },
  {
   "cell_type": "code",
   "execution_count": 6,
   "metadata": {},
   "outputs": [
    {
     "name": "stderr",
     "output_type": "stream",
     "text": [
      "Using TensorFlow backend.\n"
     ]
    }
   ],
   "source": [
    "from keras.preprocessing.text import Tokenizer\n",
    "from keras.preprocessing.sequence import pad_sequences\n",
    "\n",
    "maxlen = max([len(sentence.split(\" \")) for sentence in X_new])\n",
    "\n",
    "words_size = 10000\n",
    "tokenizer = Tokenizer(num_words=words_size)\n",
    "tokenizer.fit_on_texts(X_new)\n",
    "\n",
    "sequences = tokenizer.texts_to_sequences(X_train)\n",
    "X_train = pad_sequences(sequences, \n",
    "                        maxlen=maxlen, \n",
    "                        padding='pre')\n",
    "\n",
    "sequences = tokenizer.texts_to_sequences(X_test)\n",
    "X_test = pad_sequences(sequences, \n",
    "                       maxlen=maxlen, \n",
    "                       padding='pre')"
   ]
  },
  {
   "cell_type": "code",
   "execution_count": 7,
   "metadata": {},
   "outputs": [
    {
     "name": "stdout",
     "output_type": "stream",
     "text": [
      "WARNING:tensorflow:From D:\\Anaconda3\\lib\\site-packages\\tensorflow\\python\\framework\\op_def_library.py:263: colocate_with (from tensorflow.python.framework.ops) is deprecated and will be removed in a future version.\n",
      "Instructions for updating:\n",
      "Colocations handled automatically by placer.\n",
      "WARNING:tensorflow:From D:\\Anaconda3\\lib\\site-packages\\keras\\backend\\tensorflow_backend.py:3445: calling dropout (from tensorflow.python.ops.nn_ops) with keep_prob is deprecated and will be removed in a future version.\n",
      "Instructions for updating:\n",
      "Please use `rate` instead of `keep_prob`. Rate should be set to `rate = 1 - keep_prob`.\n",
      "_________________________________________________________________\n",
      "Layer (type)                 Output Shape              Param #   \n",
      "=================================================================\n",
      "embedding_1 (Embedding)      (None, 135, 32)           320000    \n",
      "_________________________________________________________________\n",
      "lstm_1 (LSTM)                (None, 256)               295936    \n",
      "_________________________________________________________________\n",
      "dropout_1 (Dropout)          (None, 256)               0         \n",
      "_________________________________________________________________\n",
      "dense_1 (Dense)              (None, 1)                 257       \n",
      "=================================================================\n",
      "Total params: 616,193\n",
      "Trainable params: 616,193\n",
      "Non-trainable params: 0\n",
      "_________________________________________________________________\n"
     ]
    }
   ],
   "source": [
    "from keras.models import Sequential\n",
    "from keras.layers import Embedding, GRU, LSTM, Dense, Dropout\n",
    "from keras.optimizers import Adam\n",
    "\n",
    "embedding_dim = 32\n",
    "model = Sequential()\n",
    "model.add(Embedding(input_dim=words_size, \n",
    "                    input_length=maxlen,\n",
    "                    output_dim=embedding_dim))\n",
    "\n",
    "model.add(LSTM(units=256, recurrent_dropout=0.5))\n",
    "model.add(Dropout(0.5))\n",
    "\n",
    "model.add(Dense(units=1, \n",
    "                activation='sigmoid'))\n",
    "model.summary()"
   ]
  },
  {
   "cell_type": "code",
   "execution_count": null,
   "metadata": {},
   "outputs": [
    {
     "name": "stdout",
     "output_type": "stream",
     "text": [
      "WARNING:tensorflow:From D:\\Anaconda3\\lib\\site-packages\\tensorflow\\python\\ops\\math_ops.py:3066: to_int32 (from tensorflow.python.ops.math_ops) is deprecated and will be removed in a future version.\n",
      "Instructions for updating:\n",
      "Use tf.cast instead.\n",
      "Train on 5120 samples, validate on 1280 samples\n",
      "Epoch 1/5\n",
      "5120/5120 [==============================] - 67s 13ms/step - loss: 0.5526 - acc: 0.7287 - val_loss: 0.3853 - val_acc: 0.8281\n",
      "Epoch 2/5\n",
      "5120/5120 [==============================] - 62s 12ms/step - loss: 0.3390 - acc: 0.8557 - val_loss: 0.3585 - val_acc: 0.8539\n",
      "Epoch 3/5\n",
      "5120/5120 [==============================] - 62s 12ms/step - loss: 0.2902 - acc: 0.8873 - val_loss: 0.3899 - val_acc: 0.8375\n",
      "Epoch 4/5\n",
      "4672/5120 [==========================>...] - ETA: 4s - loss: 0.2079 - acc: 0.9232"
     ]
    }
   ],
   "source": [
    "model.compile(optimizer=Adam(),\n",
    "              loss='binary_crossentropy',\n",
    "              metrics=['accuracy'])\n",
    "model.fit(X_train,\n",
    "          y_train,\n",
    "          epochs=5,\n",
    "          batch_size=32,\n",
    "          validation_split=0.2)"
   ]
  },
  {
   "cell_type": "code",
   "execution_count": null,
   "metadata": {},
   "outputs": [],
   "source": []
  }
 ],
 "metadata": {
  "kernelspec": {
   "display_name": "Python 3",
   "language": "python",
   "name": "python3"
  },
  "language_info": {
   "codemirror_mode": {
    "name": "ipython",
    "version": 3
   },
   "file_extension": ".py",
   "mimetype": "text/x-python",
   "name": "python",
   "nbconvert_exporter": "python",
   "pygments_lexer": "ipython3",
   "version": "3.6.5"
  }
 },
 "nbformat": 4,
 "nbformat_minor": 2
}
