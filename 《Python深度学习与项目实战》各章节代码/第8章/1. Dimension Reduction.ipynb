{
 "cells": [
  {
   "cell_type": "code",
   "execution_count": null,
   "metadata": {},
   "outputs": [],
   "source": [
    "from sklearn import datasets\n",
    "dataset = datasets.fetch_olivetti_faces()\n",
    "X_train = dataset['data']\n",
    "n_features = X_train.shape[1]"
   ]
  },
  {
   "cell_type": "code",
   "execution_count": null,
   "metadata": {},
   "outputs": [],
   "source": [
    "n_features"
   ]
  },
  {
   "cell_type": "code",
   "execution_count": null,
   "metadata": {},
   "outputs": [],
   "source": [
    "from keras.models import Model\n",
    "from keras.layers import Input, Dense\n",
    "from keras.optimizers import RMSprop\n",
    "# 构建编码器\n",
    "inputs = Input(shape=(n_features,))\n",
    "x = Dense(units=64, \n",
    "          activation='relu')(inputs)\n",
    "x = Dense(units=32, \n",
    "          activation='relu')(x)\n",
    "encoding = Dense(units=16, \n",
    "                 activation='relu')(x)\n",
    "# 构建解码器\n",
    "x = Dense(units=32, \n",
    "          activation='relu')(encoding)\n",
    "x = Dense(units=64, \n",
    "          activation='relu')(x)\n",
    "outputs = Dense(units=n_features, \n",
    "                activation='relu')(x)\n",
    "# 构建自编码模型\n",
    "model = Model(inputs, outputs)\n",
    "model.summary()"
   ]
  },
  {
   "cell_type": "code",
   "execution_count": null,
   "metadata": {},
   "outputs": [],
   "source": [
    "model.compile(optimizer=RMSprop(),\n",
    "              loss='mse',\n",
    "              metrics=None)\n",
    "model.fit(X_train, \n",
    "          X_train, \n",
    "          epochs=300, \n",
    "          batch_size=16,\n",
    "          validation_split=0.1,\n",
    "          verbose=2)"
   ]
  },
  {
   "cell_type": "code",
   "execution_count": null,
   "metadata": {},
   "outputs": [],
   "source": [
    "# 取出自编码模型中的编码器\n",
    "encoder = Model(inputs, encoding)\n",
    "# 对数据集中的样本特征值进行压缩\n",
    "X_train_low_dimension = encoder.predict(X_train)\n",
    "print(X_train_low_dimension.shape)"
   ]
  },
  {
   "cell_type": "code",
   "execution_count": null,
   "metadata": {},
   "outputs": [],
   "source": []
  },
  {
   "cell_type": "code",
   "execution_count": null,
   "metadata": {},
   "outputs": [],
   "source": []
  }
 ],
 "metadata": {
  "kernelspec": {
   "display_name": "Python 3",
   "language": "python",
   "name": "python3"
  },
  "language_info": {
   "codemirror_mode": {
    "name": "ipython",
    "version": 3
   },
   "file_extension": ".py",
   "mimetype": "text/x-python",
   "name": "python",
   "nbconvert_exporter": "python",
   "pygments_lexer": "ipython3",
   "version": "3.8.8"
  }
 },
 "nbformat": 4,
 "nbformat_minor": 2
}
