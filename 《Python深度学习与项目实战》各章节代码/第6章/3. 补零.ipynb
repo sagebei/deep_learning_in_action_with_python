{
 "cells": [
  {
   "cell_type": "code",
   "execution_count": null,
   "id": "39a5a993",
   "metadata": {},
   "outputs": [],
   "source": [
    "import numpy as np\n",
    "img = [\n",
    "    [3, 1, 1, 2, 8, 4],\n",
    "    [1, 0, 7, 3, 2, 6],\n",
    "    [2, 3, 5, 1, 1, 3],\n",
    "    [1, 4, 1, 2, 6, 5],\n",
    "    [3, 2, 1, 3, 7, 2],\n",
    "    [9, 2, 6, 2, 5, 1],\n",
    "]\n",
    "img = np.array(img).reshape(1, 6, 6, 1)\n",
    "kernel = [[1, 0, 3],\n",
    "          [6, 8, -1],\n",
    "          [7, 6, 4]]\n",
    "kernel = [np.array(kernel).reshape(3, 3, 1, 1)]\n",
    "from keras.models import Model\n",
    "from keras.layers import Input, Conv2D\n",
    "inputs = Input(shape=(6, 6, 1))\n",
    "# 指定在卷积操作之前对图片进行补零\n",
    "outputs = Conv2D(filters=1, \n",
    "                 kernel_size=(3, 3),\n",
    "                 strides=1,\n",
    "                 use_bias=False, \n",
    "                 padding='same',\n",
    "                 weights=kernel)(inputs)\n",
    "model = Model(inputs, outputs)\n",
    "model.summary()"
   ]
  },
  {
   "cell_type": "code",
   "execution_count": null,
   "id": "8a4f5865",
   "metadata": {},
   "outputs": [],
   "source": [
    "feature_map = model.predict(img)"
   ]
  },
  {
   "cell_type": "code",
   "execution_count": null,
   "id": "f80b5247",
   "metadata": {},
   "outputs": [],
   "source": []
  },
  {
   "cell_type": "code",
   "execution_count": null,
   "id": "985d7eeb",
   "metadata": {},
   "outputs": [],
   "source": []
  },
  {
   "cell_type": "code",
   "execution_count": null,
   "id": "ce6cc3a5",
   "metadata": {},
   "outputs": [],
   "source": []
  },
  {
   "cell_type": "code",
   "execution_count": null,
   "id": "eea18e50",
   "metadata": {},
   "outputs": [],
   "source": []
  },
  {
   "cell_type": "code",
   "execution_count": null,
   "id": "327d404b",
   "metadata": {},
   "outputs": [],
   "source": []
  }
 ],
 "metadata": {
  "kernelspec": {
   "display_name": "Python 3",
   "language": "python",
   "name": "python3"
  },
  "language_info": {
   "codemirror_mode": {
    "name": "ipython",
    "version": 3
   },
   "file_extension": ".py",
   "mimetype": "text/x-python",
   "name": "python",
   "nbconvert_exporter": "python",
   "pygments_lexer": "ipython3",
   "version": "3.8.8"
  }
 },
 "nbformat": 4,
 "nbformat_minor": 5
}
