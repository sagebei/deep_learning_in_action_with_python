{
 "cells": [
  {
   "cell_type": "code",
   "execution_count": null,
   "id": "1567b66b",
   "metadata": {},
   "outputs": [],
   "source": [
    "from keras.applications.vgg16 import VGG16\n",
    "from keras.models import Model\n",
    "from keras.layers import Input\n",
    "inputs = Input((224, 224, 3))\n",
    "vgg_model = VGG16(input_tensor=inputs, \n",
    "                  include_top=True, \n",
    "                  weights='imagenet')\n",
    "layers = vgg_model.layers"
   ]
  },
  {
   "cell_type": "code",
   "execution_count": null,
   "id": "5cf84b9c",
   "metadata": {},
   "outputs": [],
   "source": [
    "from keras.models import Model\n",
    "from keras.layers import Input,GlobalAveragePooling2D, Dense\n",
    "from keras.optimizers import Adam\n",
    "from keras.applications import VGG16"
   ]
  },
  {
   "cell_type": "code",
   "execution_count": null,
   "id": "1f0c1335",
   "metadata": {},
   "outputs": [],
   "source": [
    "# 指定输入数据的维度信息\n",
    "inputs = Input(shape=(100, 100, 3))\n",
    "# 加载VGG16模型\n",
    "vgg_model = VGG16(input_tensor=inputs, \n",
    "                  include_top=False, \n",
    "                  weights='imagenet')\n",
    "# 将卷积神经网络部分的所有层的参数固定住\n",
    "for layer in vgg_model.layers:\n",
    "    layer.trainable = False\n",
    "# 获取最后一层的输出\n",
    "last_layer_output = vgg_model.layers[-1].output\n",
    "# 将最后一层的输出使用全局平均池化层进行处理\n",
    "x = GlobalAveragePooling2D()(last_layer_output)\n",
    "# 连接全连接神经网络进行分类\n",
    "x = Dense(128, activation='relu')(x)\n",
    "outputs = Dense(1, activation='sigmoid')(x)\n",
    "model = Model(inputs, outputs)\n",
    "model.summary()"
   ]
  },
  {
   "cell_type": "code",
   "execution_count": null,
   "id": "0dda0861",
   "metadata": {},
   "outputs": [],
   "source": [
    "model.compile(loss=\"binary_crossentropy\",\n",
    "              optimizer=Adam(),\n",
    "              metrics=['accuracy'])\n",
    "model.fit(X_train, \n",
    "          y_train, \n",
    "          epochs=3,\n",
    "          verbose=2, \n",
    "          batch_size=64, \n",
    "          validation_split=0.2)"
   ]
  },
  {
   "cell_type": "code",
   "execution_count": null,
   "id": "9389bfe3",
   "metadata": {},
   "outputs": [],
   "source": []
  }
 ],
 "metadata": {
  "kernelspec": {
   "display_name": "Python 3",
   "language": "python",
   "name": "python3"
  },
  "language_info": {
   "codemirror_mode": {
    "name": "ipython",
    "version": 3
   },
   "file_extension": ".py",
   "mimetype": "text/x-python",
   "name": "python",
   "nbconvert_exporter": "python",
   "pygments_lexer": "ipython3",
   "version": "3.8.8"
  }
 },
 "nbformat": 4,
 "nbformat_minor": 5
}
